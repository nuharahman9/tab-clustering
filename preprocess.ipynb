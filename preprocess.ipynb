{
 "cells": [
  {
   "cell_type": "markdown",
   "metadata": {},
   "source": [
    "# Load libraries / create tokenizer object "
   ]
  },
  {
   "cell_type": "code",
   "execution_count": 1,
   "metadata": {},
   "outputs": [],
   "source": [
    "import pandas as pd \n",
    "import string \n",
    "import numpy as np \n",
    "import os \n",
    "from nltk import word_tokenize\n",
    "from nltk.corpus import stopwords   \n",
    "from nltk.stem import PorterStemmer\n",
    "from sklearn.feature_extraction.text import TfidfVectorizer\n",
    "from collections import Counter \n",
    "import math\n",
    "import re "
   ]
  },
  {
   "cell_type": "markdown",
   "metadata": {},
   "source": [
    "# load corpus\n"
   ]
  },
  {
   "cell_type": "code",
   "execution_count": 5,
   "metadata": {},
   "outputs": [
    {
     "name": "stdout",
     "output_type": "stream",
     "text": [
      "./corpus/en.wikipedia.org_wiki_Inter-process_communication.txt\n",
      "./corpus/github.com_dkorenci_topic_coverage_blob_main_data.readme.txt.txt\n",
      "./corpus/playcode.io_javascript.txt\n",
      "./corpus/chatgpt.com_c_561150ab-359f-4949-bfba-f1d10d660259.txt\n",
      "./corpus/www.geeksforgeeks.org_python-os-listdir-method_.txt\n",
      "./corpus/stackoverflow.com_questions_461791_is-it-possible-to-write-to-a-file-on-a-disk-using-javascript?rq=3.txt\n",
      "./corpus/www.reddit.com_r_learnprogramming_comments_6sftac_how_can_i_transfer_data_between_java_and_python_.txt\n",
      "./corpus/www.linkedin.com_feed_.txt\n"
     ]
    }
   ],
   "source": [
    "def load_corpus(path): \n",
    "    corpus_paths = []\n",
    "    for filename in os.listdir(path): \n",
    "        file_path = path + filename \n",
    "        corpus_paths.append(file_path)\n",
    "    return corpus_paths \n",
    "\n",
    "corpus_dir = './corpus/'\n",
    "file_paths = load_corpus(corpus_dir)\n",
    "for path in file_paths: \n",
    "    print(path)\n",
    "\n",
    "\n"
   ]
  },
  {
   "cell_type": "markdown",
   "metadata": {},
   "source": [
    "# Preprocess data "
   ]
  },
  {
   "cell_type": "code",
   "execution_count": 6,
   "metadata": {},
   "outputs": [
    {
     "name": "stdout",
     "output_type": "stream",
     "text": [
      "['interprocess commun wikipedia jump contentmain menusearchcr accountlog inperson toolscont hidetopapproachesapplicationstoggl applic subsectionremot procedur call interfacesplatform commun stackoper system commun stackdistribut object modelsse alsoreferencesextern linksinterprocess communication29 languagesarticletalkreadeditview historytoolsfrom wikipedia free encyclopedia articl includ list gener refer lack suffici correspond inlin citat pleas help improv articl introduc precis citat august 2015 learn remov messagea grid comput system connect mani person comput internet via interprocess network communicationin comput scienc interprocess commun ipc also spell interprocess commun mechan provid oper system process manag share data typic applic use ipc categor client server client request data server respond client requests1 mani applic client server commonli seen distribut computingipc import design process microkernel nanokernel reduc number function provid kernel function obtain commun server via ipc lead larg increas commun compar regular monolith kernel ipc interfac gener encompass variabl analyt framework structur process ensur compat multivector protocol upon ipc model rely2an ipc mechan either synchron asynchron synchron primit may use synchron behavior asynchron ipc mechanismapproacheseditdiffer approach ipc tailor differ softwar requir perform modular system circumst network bandwidth latency1method short descript provid oper system environmentsfil record store disk record synthes demand file server access multipl process oper systemscommun file uniqu form ipc late1960 close resembl plan 9s 9p protocol dartmouth timeshar systemsign also asynchron system trap system messag sent one process anoth usual use transfer data instead use remot command partner process oper systemssocket data sent network interfac either differ process comput anoth comput network streamori tcp data written socket requir format preserv messag boundari rare messageori udp sctp oper systemsunix domain socket similar internet socket commun occur within kernel domain socket use file system address space process refer domain socket inod multipl process commun one socket posix oper system window 103messag queue data stream similar socket usual preserv messag boundari typic implement oper system allow multipl process read write messag queue without directli connect oper systemsanonym pipe unidirect data channel use standard input output data written writeend pipe buffer oper system read readend pipe twoway commun process achiev use two pipe opposit direct posix system windowsnam pipe pipe treat like file instead use standard input output anonym pipe process write read name pipe regular file posix system window amigao 20share memori multipl process given access block memori creat share buffer process commun posix system windowsmessag pass allow multipl program commun use messag queue andor nono manag channel commonli use concurr model use lpc rpc rmi mpi paradigm java rmi corba com dd msmq mailslot qnx othersmemorymap file file map ram modifi chang memori address directli instead output stream share benefit standard file posix system windowsapplicationsedit articl list format may read better prose help convert articl appropri edit help avail novemb 2016remot procedur call interfaceseditmain articl remot procedur calljava remot method invoc rmionc rpcxmlrpc soapjsonrpcmessag bu mbu specifi rfc 3259 confus mbusnet remotinggrpcplatform commun stackeditth follow messag inform system util ipc mechan dont implement ipc themselveskd desktop commun protocol dcop – deprec dbusdbusopenwrt use ubu micro bu architecturemcapi multicor commun apisimpl synchron interprocess messag project linux simpl9p plan 9 filesystem protocoldistribut comput environ dcethriftzeroc internet commun engin iceømqendurox middlewareyami4enlightenmentsoftwar e16 use eesh ipcoper system commun stackeditth follow platform program languagespecif apisappl comput appl event previous known interappl commun iacarexx portsenea linx linux open sourc variou dsp generalpurpos processor oseth mach kernel mach portsmicrosoft activex compon object model com microsoft transact server com distribut compon object model dcom dynam data exchang dde object link embed ole anonym pipe name pipe local procedur call mailslot messag loop msrpc net remot window commun foundat wcfnovel spxposix mmap messag queue semaphores4 share memoryrisc oss messagessolari doorssystem vs messag queue semaphor share memorylinux transpar inter process commun tipcopenbind open binderqnx pp persist publishsubscrib servicedistribut object modelseditth follow platform program languag specificapi use ipc implement itlibt2n c linux handl complex object exceptionsphp sessionsdistribut rubycommon object request broker architectur corbaelectron asynchron ipc share json object main render process5se alsoedit comput program portalberkeley socketscomput network programmingcommun sequenti process csp paradigmdata distribut servicedatabaseasipcprotect procedur callreferenceseditsteven richard unix network program volum 2 second edit interprocess commun prentic hall 1999 isbn 0130810819u ramachandran solomon vernon hardwar support interprocess commun proceed 14th annual intern symposium comput architectur pittsburgh pennsylvania unit state page 178 188 year public 1987 isbn 0818607769crovella bianchini r leblanc markato e wisniewski r use communicationtocomput ratio parallel program designand perform predict 1–4 decemb 1992 pp 238–245 isbn 0818632003 jump toa b interprocess commun microsoft camurati p 1993 interprocess commun systemlevel design intern workshop hardwaresoftwar codesign windowswsl interop afunix microsoft 7 februari 2018 retriev 25 may 2018 concurr program commun process ipcmain electronextern linkseditlinux ipc5 man page describ system v ipcwindow ipcipc avail use qtunix network program vol 2 interprocess commun w richard stevensinterprocess commun pipe cdipc distribut system v ipcshowvteinterprocess communicationshowvteweb syndicationcategori interprocess communicationthi page last edit 2 may 2024 0027 utctext avail creativ common attributionsharealik licens 40 addit term may appli use site agre term use privaci polici wikipedia® regist trademark wikimedia foundat inc nonprofit organizationprivaci policyabout wikipediadisclaimerscontact wikipediacod conductdevelopersstatisticscooki statementmobil viewtoggl limit content width', 'topiccoveragedatareadmetxt main · dkorencitopiccoverag skip contentnavig menudkorencitopiccoveragetyp searchcodeissuespul requestsactionsprojectssecurityinsightsfil maintcorpustextstreaminitpycorpuspyfactorypyfilterpyrsssuckerpytextpytoolspydatadoctopiccohdockerexperimentsgensimmodgtarcontextmodelsphenotypecontextpreprocessingpyldazenpymedialabsettingspytopiapyutilsresourcestopiccoverageutilsgitignoreapach license20txtreadmetxtcodereadmetxtdatareadmetxtpipfreezetxtbreadcrumbstopiccoveragedatareadmetxtlatest commitdkorenciiniti commit123ed8 · historyhistorybreadcrumbstopiccoveragedatareadmetxttopfil metadata controlscodeblame66 line 48 loc · 349 kbcode 55 faster github copilotraw1234567891011121314151617181920212223242526272829303132333435363738394041424344454647484950515253545556575859606162636465 overview gener note data experi contain three sourcesth first data folder contain data annot refer topic txt formatth second phenotypecontext gtarcontext packag contain code data construct corpora relat resourc export pytopia context third sourc cloud data repositori contain resourcessuch prebuilt topic model download url providedsom resourc referenc describ codereadmetxtthroughout code sever synonym use news biolog resourc arebiolog dataset pheno phenotypenew dataset uspol us polit gtar get agenda right data distribut cc 40 licens httpscreativecommonsorglicensesby40 text corpora due copyright restrict corpora text provid preprocess form text repres bagoftokenscorpu txt file singl text per line corpora repres textperlinecorpu objectsthes file uspoliticstextperlinetokenizedtxt phenocorpus1txtcod locationsconstruct news refer corpu gtarcontextcorpuscontextconstruct phenotyp corpu phenotypecontextphenotypecorpusconstructcorpu refer topic refer topic repres humanread found datareferencetop folderin code set refer topic packag topic model object sinc topic differ level represent topic topic modelsthey repres artiftopicmodel object artiftopicmodel subclass gener topicmodel classcod locationsconstruct news refer topic gtarcontextsemantictopicsconstructmodelconstruct biolog refer topic phenotypecontextphenotypetopicsconstructmodel topic model build topic model reli heaviliy facil pytopia framework pytopia packagethi includ build intermediari resourc index tfidf represent cach built resourc includ built topic modelsal model use experi made avail serial pytopia resourcesmain set topic model httpspuhsrcehrsd4iqmjakmbtbg4wextend set topic model stabil experi httpspuhsrcehrsazeqpai3wb4cggzto use model topicmodelsfold topicmodelsextend variabl topiccoveragesettingsmust set locat folder contain download modelsaltern build topic model scratch use code configur cach folder intermediari resourc see todo settingstemplatepyloc model build code topiccoveragemodelbuild packagecontain code use model build topiccoveragemodelbuildmodelbuilddockerv1 moduleentri point run build via command line neccessari run docker containerparamset paramsetprod correspond main set topic model use throughout paperparamset paramsetprodnumt correspond extend set topic model use stabil experi topiccoveragemodelbuildmodelbuilddockerv1buildmodel methodinterfac method model buildingtopiccoveragedatareadmetxt main · dkorencitopiccoverag', 'javascript playground javascript playgroundsharelearnsign insign upfilessrcscriptjsstylecssindexhtmlpackagesindexhtmlscriptjs1234567const messag hello world tri edit updat header textdocumentqueryselectorheaderinnerhtml messageconsolelogdocumentbodyinnertext log consoleconsolelogmessageconsolehello worldhello worldweb view1data hint', 'nuha softwar engin summari chat historychatgptchatgptexplor gptstodaynuha softwar engin summaryprevi 7 daysview hidden consol messagesget chrome tab idsbutton event listenernul element error fixspars w hexcit join cantinatext binari rawiter unsign charxor uint32t cchecksum extract cdynam int alloc cpppreviou 30 daystcp server send udpsampl rate unknown challengepcm store binaryresin art materi costoutput data mutablebufferboostasio pipe examplehandl raw pcm datafilt packet ipyamlcpp instal issuesconnect multipl peersinstal c librari tarleggi messaggi da socketlink error troubleshootinglink error troubleshoot guidep2p audio client implementationintegr ffmpeg c socketset filter ipjava equival setaccid report rate checkaprilfeder token authenticationcomputeifabs javajava heap priorityqueueloop arrayshead librari linkingbyt shift operatorsnetwork stream overviewffmpeg link errorstarot card guidanc requestedinclud libavformat compilationmemcpi allocateread packet cmission decod satellit transmissionfind default interfacecompil run c cppzscaler vs okta cybersecur comparisonnew chatdf recurs implementationconvert set arrayspac complex examplesmarchmap element derefer jsiter setperm vs combsrevers queen cupssplit string wordsfunct return error fixhelp conversationphd program durationsreact desktopcaptur apinmf implement javaspars nmf beneficialnlp chrome tab clusteringjoin array variou methodsdatafram 2d arraysystem program basicsmatrix decomposit svdcreat zerofil gridstochast descent simpl termsmatrix convex explanationbreak loop iftfidf storag solutionunderstand line codepython list dataframejava vs python comparison1099misc issuanc timelineir 1099k explanationcombat excess ga naturallyfebruaryavi ceo interview questionsact recal questionsdn monitor securitycolumn developercentr bankingonsit interview prepach network basicsencrypt symmetr vs asymmetricmicroseguridad red divididatechop support engineerdevic manag secur practicescyb vs infosecdebug email group creationroman postal system factcsv file analysi pandasmiss bracket detectedjson associ arraycr group curlbash script user inquirycompos api request bashssl handshak failur troubleshootingbash json jqcompar regex bashswitch bash shellwrit zsh scriptcheck shell zsh bashjanuaryit manag interview questionsus array duplicatesml fundament concept techniquestech role interview questionsit support common issuessai bouquet engin infomerg work email commitsintl job app prosconsdelet element setdelet row indext render error fixbinari word unlik matchbutton cover tabl rowcent tabl cssland buyer develop inquiryreact state input bindingclear form input jsfactori function javascript2023work cashier washerreactflask request handlingdelet array element jspull tarot card interpretationemo introspect transformmerg master branchyaml file filteredreactfrag group elementsset font cssgrid fill entir containerital tag emphasisreact send array flasknest form allowedinput event handlersreact chang class namereact grid visualizationlocalstorag basicsconvert string booleanreactn import errorcr git branchestarot card determin victorychines brushstrok guidechicago style onlin citationcit chicago styleh neat linesdata purchas price varyenlighten struggl capturedmetaphor languag explainedyuan zen art synthesis visit young womenstylist choic alternativesdhcp request sent earlymac address format issueti synonym tie inyuxi counti yuan dynastyyuxi china southern beautyyuxi yuan dynastychines buddhism schoolsdhcpdiscov msg addrsocketlisten pythonbrand tip successsetup vs mainten costsdecim 0027network topolog mininetscp local vmtent rental cost guideleg advic cost breakdownsakya pandita textbooktcp reno overviewidentifi slow start wiresharktcp phase analysi guidetcp timeseq graph interpretationtcp congest control graphx11 authent issuebug xterm display issuemininet server failur fixglx openglx server glx issuesdetect duplic packetspython lock basicsmanichaean cosmolog etern strugglesoci app accept criterianew chattim thread closur methodstim thread basicsbyt string extractionbyt array pack guideip checksum calcul algorithmpython timeout methodsscp file serverrdt 20 sequenc usagellc vs scorp vs ccorpdatagram basic overviewrecompil python codeget pid background processno udp httpudp port number pythonprint socket error pythonmultipl udp thread handlingrdt 30 summari new tech acronym explanationwest asian influenc yuanporcelain white color glazeart ca 1332circular dht peer insertionfil distribut plan systemmbgb convers calculationpatch distribut time estimationsocket bind networkingdetect video webpagesyoutub word associationnumb sum 5quadrat function foundcodeorg excit featuresstr contain substr pythoncopi file serverweb object retriev timehow dn worksc read function explanationcaptura de entrada csockaddrin network programmingconnect server namecopi file use scpnew chatpython ifels block tutorialextract valu iteratorrenam file vimcount key mapcambiar valor de mapaip address format ipv4 ipv6replac char javascriptreset iter beginningvm dn resolut processwhat rttsort array arrow functionnslookup server addressconvert integ binarygrammarli notabl featuresqt platform plugin errorsalesforc compani valuesusbc hdmi display issuecheck mac kernel architecturewhat dockerchlamydia test accuraci guideaddress assist professorsact servic conversationexplor nyc today optionsfix youtubedl access errorclos prmerg master branchoauth 20 token explainedoauth 20 feder authenticationchang local histori commitqualtr survey softwar platformpassion crypto enthusiastapi credenti securityjoin array without spacesnew chatnul object access errorpython dockerfil examplepython script kubernet cronjobhttp 500 statu codevault secret pythontransact readonli attributefix rollbackfor annotationpython request header bodyunderstand kubernet cronjob codeephemer oauth securitycustom getorthrow extensionhandl jpa exceptionsne ephemer credentialsrestrict nonnul argsstub custom object behaviormockito custom respons mappingpython counter usagepars date format javahandl map oper exceptionstest case expir credentialsbackend engin fit stripefind intersect listsmap list kotlintypecast sql comparisonnew chatmockk return objectsmockk handl unansw mocksunknown term authorizedobjectidbefor vs beforeeachprint list kotlinintroduct kotlinsql delet aliasesjpa saveal usageephemer credenti apisrevert chang commitreset local chang commitjacoco kotlin coveragekotlin els throwspr secur access controlsql get row 30djacoco complex coveragemockito mock except testingpost adddelet emailsconfigur wiremock urlkotlin privat string listwiremock setup guideaccess log testscheck object type junitsockettimeout connect timeout solutionidp ident providercheck api respons statusfeign respons examplemysql cast varcharcustom objectmapp feignfeign request interceptorno authorizedobjectid availablecloud lb client explanationjsonignoreproperti jacksonpayload explainededgeheadersrequest recognizedkotlin suspend fun explainedtimestamp format explainedspr boot transact explainedmen perpetr mpmnew chatformat datetim stringtochar sql functionsandbox environ overviewjava code coverag jacocoexecspr boot control packagesonelin kotlinnew chatsend specif api responsecod stop exceptioncheck junit versionmaven ktlint error fixprincip jwt tokenemail link trackingfix autobuild errorgha codeql scan javasql timestamp formatcurr timestamp jdbcsqlopaqu access tokenspars datetim string errorsql syntax error fixsql except invalid dataaccesssql queri group credentialsnew chatlet vs map kotlinswagg ui showingrenam branch githubapplicationcontext refresh errorapplicationcontext refresh issueremov recent commitreset file git commitremov commit idjsoninclud explanationnew chatprint return objectint jparepositori relationshipstr int kotlinurl error javaerror unexpect 500 codegrpc overview explanationinherit class without importssdk meaningssl handshak errorpost endpoint springjsonignor javaspr boot nativequeryssl certif valid error404 found solutionioexcept troubleshoot assistancefix http timeout issueconnect refus errorfix docker command errormount volumesdock imag basics401 error potenti fixesmerlon architectur mario programmingpostmap spring mvcaccess error lombokkubernet job overviewvault secret enginesnew chatresolv fatal unabl updat url base redirectionartifactori data overview accessuninstal kubectlupgrad planget gpt4 dall· morechatgptnuha rahmannrahm777gmailcom 408 2047854 bay area canuharahman9 httpswwwlinkedincominnuharahman4538391b8experience● expedia group softwar engin intern austin tx – 062023 092023○ launch api credenti expiri rotat featur implement best secur practices○ develop api endpoint junitspr bootkotlin client rotat credentialsupd emails○ autom emailsdatabas cleanup k8 cronjob lower aw cloud overhead cost 6● ucr inform technolog solut bearhelp riversid ca – 032020 112020○ answer phone call assist custom basic technolog issu variou ucr websit egvpn connect issu password reset new platform onboardingeducation● univers california riversid riversid ca – bs comput scienc – 092019 122023○ relev cours databas manag system natur languag process network computerarchitectur compil design oper system data structur algorithms○ extracurricular theta tau profession engin fratern webmast societi women engineersros hack sponsorship committe women comput clubprojects● ship contain optim repo ○ use manhattan distanc search minim number move load offload ship loadbal ship theyr compliant reactjsjavascript webapp pythonflask backend○ demonstr knowledg machin learn algorithm build complex fullstack project○ architect experi heurist test scalabl design frontend● hotel manag databas repo ○ use java postgresql creat hotel manag system user interfac cli○ develop schema sql queri manag custom use updat view info● plant schedul demo repo ○ use reactj html5css firebas platform auth firestoredatabas deployment○ login upload plant profil receiv date remind next water plant crudoper plant profiles○ demonstr knowledg react hook compon lifecycl firebas sdk bundler● sudogo repo ○ use c valgrind git googl test librari implement strategysingleton design patterns○ user play sudoku hardcod valu board numbersspac remov randomfeatur includ board print chang board exitrestart etc○ determiningdesign featuresdesign pattern locatingdebug memori leak write unit tests● github user finder demo sourc code ○ simpl javascript search engin github user demonstr knowledg async api callsskills● program languag markdowns○ javascript c c python3 java html5css sql kotlin● framework libraries○ reactj django pytorch nltk spring boot junit gtest● softwar tools○ npm nodej git maven spinnak docker● databas technologies○ postgresql mysql● addit skills○ rest api design pattern agilescrum goaldriven leadership articul oralwritten communicatoraddit projectshttpscodepenionuhahahaha resum describ third person short summari would good hire softwar engin chatgptnuha rahman highli skill motiv softwar engin strong foundat comput scienc evidenc bs degre univers california riversid divers experi includ success internship expedia group implement critic secur featur develop robust api endpoint optim cloud cost autom nuha technic expertis span multipl program languag framework includ kotlin python javascript reactj practic experi databas postgresql mysqlher project portfolio showcas rang complex fullstack applic ship contain optim util machin learn algorithm plant schedul leverag reactj firebas project demonstr abil architect solut manag databas implement design pattern effect addit role variou extracurricular activ highlight leadership commun skillsnuha profici rest api agilescrum methodolog softwar tool like docker git combin handson experi problemsolv capabl make excel candid softwar engin posit commit continu learn proactiv approach tackl challeng problem underscor potenti make signific contribut teamdo background javascript chrome extens acess dom chatgptno background script chrome extens direct access dom web page background script run background context extens primarili use handl event manag extens state lifecyclehowev background script commun content script access dom web page content script inject web page read modifi dom directli commun background script content script typic handl use messag passingher brief overview worksbackground script run background access dom web page directli perform task like handl browser event manag extens state commun content scriptscont script inject web page direct access dom read modifi web page contentmessag pass background script content script commun use messag pass background script send messag content script vice versaexampl messag passingbackgroundj background scriptjavascriptcopi code listen messag content scriptchromeruntimeonmessageaddlistenermessag sender sendrespons messageact getdata perform background task const data hello background script send respons back content script sendrespons data data contentj content scriptjavascriptcopi code send messag background scriptchromeruntimesendmessag action getdata respons consolelogresponsedata log hello background script modifi domdocumentbodystylebackgroundcolor lightbluein exampl content script send messag background script request data background script perform task send respons back content script act data modifi dom neededi want add button chrome extens trigger event background script chatgptto add button chrome extens trigger event background script youll need follow stepscreat ui button typic done popup html file appear extens icon clickedset event listen background script background script listen messag popup scriptsend messag popup script background script button click popup script send messag background scripther ’ stepbystep guide1 manifest filefirst ensur manifestjson file includ necessari permiss point background script popup htmlmanifestjsonjsoncopi code manifestvers 3 name extens version 10 action defaultpopup popuphtml background servicework backgroundj permiss activetab 2 popup htmlcreat simpl html file extens ’ popup includ buttonpopuphtmlhtmlcopi codedoctyp htmlhtmlhead titlepopuptitl style bodi width 200px height 100px display flex justifycont center alignitem center fontfamili arial sansserif button pad 10px 20px fontsiz 16px styleheadbodi button idtriggertrigg background eventbutton script srcpopupjsscriptbodyhtml3 popup scriptadd javascript handl button click send messag background scriptpopupjsjavascriptcopi codedocumentgetelementbyidtriggeraddeventlistenerclick chromeruntimesendmessag action triggerev 4 background scriptset background script listen messag handl eventbackgroundjsjavascriptcopi codechromeruntimeonmessageaddlistenermessag sender sendrespons messageact triggerev consolelogbutton click event trigger background script perform background task workswhen extens icon click popuphtml displayedth user click button popuphtmlpopupj send messag background script use chromeruntimesendmessagebackgroundj receiv messag trigger desir eventnotesensur extens reload make chang manifest file scriptsus consolelog statement chromenotif debug confirm commun script view log background page ’ consol chrome extens manag page chromeextensionsthi setup allow trigger background task extens popup ui efficientlycan get element id window chatgpty get element id window use javascript depend context your tri access your work content script popup script chrome extens directli use documentgetelementbyidin popup scriptif html element popup want access id followspopuphtmlhtmlcopi codedoctyp htmlhtmlhead titlepopuptitl style bodi width 200px height 100px display flex justifycont center alignitem center fontfamili arial sansserif button pad 10px 20px fontsiz 16px styleheadbodi button idtriggertrigg background eventbutton script srcpopupjsscriptbodyhtmlpopupjsjavascriptcopi code wait dom fulli loadeddocumentaddeventlistenerdomcontentload get button element id const triggerbutton documentgetelementbyidtrigg add event listen button triggerbuttonaddeventlistenerclick chromeruntimesendmessag action triggerev content scriptif your work content script need access element id webpag similarlycontentjsjavascriptcopi code wait dom fulli loadeddocumentaddeventlistenerdomcontentload get element id const someel documentgetelementbyidsomeelementid someth element someel someelementstylebackgroundcolor yellow background script contextbackground script direct access dom webpag popup design run background handl task like manag state handl event commun content popup script interact dom background script must send messag content script popup scriptsexampl messag popup background content scriptto illustr background script indirectli trigger dom manipul via content script ’ examplepopuphtml abovepopupjsjavascriptcopi codedocumentaddeventlistenerdomcontentload const triggerbutton documentgetelementbyidtrigg triggerbuttonaddeventlistenerclick send messag background script chromeruntimesendmessag action triggerev backgroundjsjavascriptcopi codechromeruntimeonmessageaddlistenermessag sender sendrespons messageact triggerev send messag activ tab chrometabsqueri activ true currentwindow true tab chrometabssendmessagetabs0id action highlightel contentjsjavascriptcopi codechromeruntimeonmessageaddlistenermessag sender sendrespons messageact highlightel const someel documentgetelementbyidsomeelementid someel someelementstylebackgroundcolor yellow exampleth user click button popupth popup script send messag background scriptth background script send messag activ tab ’ content scriptth content script modifi dom webpagethi approach ensur proper separ concern leverag capabl script context within chrome extensionwhat differ chromeruntimesendmessag chrometabssendmessag chatgptin chrome extens chromeruntimesendmessag chrometabssendmessag use send messag serv differ purpos use differ context ’ breakdown differ twochromeruntimesendmessagescop method use send messag within entir extens commun background script popup script content script part extensionusag primarili use send messag background script event page part extens also use commun differ part extens relat specif tabssyntaxjavascriptcopi codechromeruntimesendmessagemessag callbackexamplepopupjsjavascriptcopi codedocumentgetelementbyidtriggeraddeventlistenerclick chromeruntimesendmessag action triggerev backgroundjsjavascriptcopi codechromeruntimeonmessageaddlistenermessag sender sendrespons messageact triggerev consolelogev trigger popup chrometabssendmessagescop method use send messag content script run specif tab use manipul interact dom web pagesusag typic use background script popup script send messag content script run particular tab requir specifi tab id target correct tabsyntaxjavascriptcopi codechrometabssendmessagetabid messag callbackexamplebackgroundjsjavascriptcopi codechromeruntimeonmessageaddlistenermessag sender sendrespons messageact triggerev chrometabsqueri activ true currentwindow true tab chrometabssendmessagetabs0id action highlightel contentjsjavascriptcopi codechromeruntimeonmessageaddlistenermessag sender sendrespons messageact highlightel const someel documentgetelementbyidsomeelementid someel someelementstylebackgroundcolor yellow summari differencesscop chromeruntimesendmessag intern extens commun across context chrometabssendmessag specif commun content script web pagestarget chromeruntimesendmessag requir tab id target background script wherea chrometabssendmessag requir tab id target specif tab content scriptus caseschromeruntimesendmessagesend messag popup script background scriptsend messag content script background script anoth content script within extensionchrometabssendmessagesend messag background script content script specif tabsend messag popup script content script activ tabunderstand differ help architect commun within chrome extens effect ensur messag sent receiv appropri contextsi want get text content open tab current window chrome extens chatgptto get text content open tab current window chrome extens youll need follow stepsrequest necessari permiss need tab permiss manifestjson interact browser tabsqueri tab current window use chrometabsqueri method get inform open tabsinject content script tab use chrometabsexecutescript new chromescriptingexecutescript api manifest v3 inject content script retriev text content tabsend collect text content back background popup script use messag pass commun content script background popup scripther achiev this1 manifest fileensur manifestjson file includ necessari permiss point background scriptjsoncopi code manifestvers 3 name text content extractor version 10 permiss tab activetab script background servicework backgroundj action defaultpopup popuphtml 2 popup htmlcreat simpl html file extens ’ popup includ buttonpopuphtmlhtmlcopi codedoctyp htmlhtmlhead titleextract texttitleheadbodi button idextractextract text tabsbutton script srcpopupjsscriptbodyhtml3 popup scriptadd javascript handl button click send messag background scriptpopupjsjavascriptcopi codedocumentgetelementbyidextractaddeventlistenerclick chromeruntimesendmessag action extracttext 4 background scriptset background script handl messag inject content script tabbackgroundjsjavascriptcopi codechromeruntimeonmessageaddlistenermessag sender sendrespons messageact extracttext get tab current window chrometabsqueri currentwindow true tab tabsforeachtab inject content script tab chromescriptingexecutescript target tabid tabid function extracttextcont result result results0 consolelogtext tab tabid results0result content script function extract text contentfunct extracttextcont return documentbodyinnertexthow worksus interact user click button popuppopup script popup script send messag background script indic extract textbackground script background script listen messag queri tab current window inject content script tabcont script content script run context tab extract text content use documentbodyinnertext return resultresult handl background script handl result log text content tabnotesmanifest v3 ensur use manifest v3 syntax script chromescriptingexecutescriptpermiss make sure tab script permiss manifest filesecur mind permiss user data secur access content across tab exampl assum simpl case extract text demonstr purposesthi setup allow extract handl text content open tab current window effectivelywhat chrometabsqueri dochatgptchrometabsqueri method provid chrome extens api allow retriev inform tab current open browser method particularli use get detail specif tab base certain criteria whether activ url windowusageth chrometabsqueri method take two parametersqueryinfo object specifi properti condit filter tabscallback function call array tab object match queri conditionssyntaxjavascriptcopi codechrometabsqueryqueryinfo callbackparametersqueryinfo object variou properti specifi condit queri common properti includeact boolean indic tab activ tab windowcurrentwindow boolean indic tab current windowlastfocusedwindow boolean indic tab last focus windowurl string array string match tab urlstitl string array string match tab titleswindowid id window tab incallback function take array tab object argument tab object contain inform tab match queri criteriaexampleher exampl use chrometabsqueri get tab current windowjavascriptcopi codechrometabsqueri currentwindow true functiontab tabsforeachtab consolelogtab id tabid titl tabtitl url taburl detail examplesuppos want get text content open tab current window ’ use chrometabsqueri conjunct part chrome extens api1 manifest fileensur manifestjson includ necessari permiss point background scriptjsoncopi code manifestvers 3 name tab queri exampl version 10 permiss tab activetab script background servicework backgroundj action defaultpopup popuphtml 2 popup htmlcreat simpl html file extens ’ popup includ buttonpopuphtmlhtmlcopi codedoctyp htmlhtmlhead titleextract texttitleheadbodi button idextractextract text tabsbutton script srcpopupjsscriptbodyhtml3 popup scriptadd javascript handl button click send messag background scriptpopupjsjavascriptcopi codedocumentgetelementbyidextractaddeventlistenerclick chromeruntimesendmessag action extracttext 4 background scriptset background script handl messag inject content script tabbackgroundjsjavascriptcopi codechromeruntimeonmessageaddlistenermessag sender sendrespons messageact extracttext get tab current window chrometabsqueri currentwindow true tab tabsforeachtab inject content script tab chromescriptingexecutescript target tabid tabid function extracttextcont result result results0 consolelogtext tab tabid results0result content script function extract text contentfunct extracttextcont return documentbodyinnertextsummarychrometabsqueri use retriev tab base specifi criteriait take queryinfo object filter tab callback function process result tabsit commonli use get tab current window activ tab tab specif url titlesbi use chrometabsqueri effect gather manipul inform browser tab enabl power function within chrome extensionfor reaosn function execut know reach function ubt skip chatgptther could sever reason function execut properli within chrome extens context let troubleshoot common issu ensur everyth set correctlystepbystep troubleshootingcheck consol error open consol background page chromeextens inspect view extens consol current tab check error messagesverifi permiss ensur correct permiss manifestjsonensur content script execut make sure content script inject correctlycheck function definit execut verifi function tri execut correctli defin return expect resulther ’ detail exampl ensur everyth correctli set working1 manifest filemak sure manifestjson includ necessari permiss point background scriptjsoncopi code manifestvers 3 name tab queri exampl version 10 permiss tab activetab script background servicework backgroundj action defaultpopup popuphtml 2 popup htmlcreat simpl html file extens ’ popup includ buttonpopuphtmlhtmlcopi codedoctyp htmlhtmlhead titleextract texttitleheadbodi button idextractextract text tabsbutton script srcpopupjsscriptbodyhtml3 popup scriptadd javascript handl button click send messag background scriptpopupjsjavascriptcopi codedocumentgetelementbyidextractaddeventlistenerclick chromeruntimesendmessag action extracttext 4 background scriptset background script handl messag inject content script tabbackgroundjsjavascriptcopi codechromeruntimeonmessageaddlistenermessag sender sendrespons messageact extracttext get tab current window chrometabsqueri currentwindow true tab tabsforeachtab inject content script tab chromescriptingexecutescript target tabid tabid function extracttextcont result result results0 consolelogtext tab tabid results0result content script function extract text contentfunct extracttextcont return documentbodyinnertextdebug tipslog statement add consolelog statement verifi step reachedcheck result ensur result callback chromescriptingexecutescript expectedfunct execut ensur function pass chromescriptingexecutescript correctli defin executedexampl debug statementsbackgroundjsjavascriptcopi codechromeruntimeonmessageaddlistenermessag sender sendrespons messageact extracttext consolelogreceiv extracttext action get tab current window chrometabsqueri currentwindow true tab consolelogtab current window tab tabsforeachtab consoleloginject script tab tabid inject content script tab chromescriptingexecutescript target tabid tabid function extracttextcont result result results0 consolelogtext tab tabid results0result els consolelogfail get result tab tabid content script function extract text contentfunct extracttextcont consolelogextracttextcont function execut return documentbodyinnertextconclusionbi follow step ad debug statement abl identifi function might skip execut ensur chrome extens work expectedif block like thji oin javascript tab tabsforeachtab thingpushtab chromescriptingexecutescript target tabid tabid func gettextcont thenresult let 0 resultslength writetofileresultsi access tab chatgptin javascript method promis chain access variabl lexic scope mean access variabl defin function enclos function howev specif case callback access tab array directli insid differ scope instead access variabl function scope definedto ensur callback access tab array necessari variabl use variou techniqu closur maintain relev data within callback scope ’ structur code ensur access requir variablesensur callback access tabsher ’ exampl organ code ensur callback access tab array necessari variablesjavascriptcopi codechrometabsqueri currentwindow true tab tabsforeachtab push tab array process thingpushtab execut script context tab chromescriptingexecutescript target tabid tabid func gettextcont thenresult access result return content script resultsforeachresult writetofileresult catcherror consoleerrorerror execut script tab tabid error function execut content scriptfunct gettextcont return documentbodyinnertext dummi function demonstr purposesfunct writetofilecont consolelogwrit file contentexplanationqueri tab chrometabsqueri method retriev tab current windowfor tab tabsforeach method iter tabpush tab array thingpushtab statement add tab thing arrayexecut script chromescriptingexecutescript method inject content script gettextcont tabhandl result callback process result return content scriptwrit file writetofil function call result handl contentaddit noteserror handl catch block ensur error script execut loggedlex scope callback access variabl like tab defin within lexic scope insid tabsforeach loopcont script gettextcont function run context tab return text content bodi elementbi organ code way ensur callback access necessari context variabl allow process result correctlyhow save text content bunch websit want give python ml model train want document corpu separ websit use model group websit similar chatgptto save text content bunch websit train python ml model shouldextract text content use chrome extens scrape text websitesav content save extract content separ text file one websiteorgan data ensur document clearli separ maintain integr corpu trainingstepbystep guide1 extract text content chrome extensionyouv alreadi start chrome extens extract text content websit ’ refin version ensur text content save organ correctlybackgroundjsjavascriptcopi codechromeruntimeonmessageaddlistenermessag sender sendrespons messageact extracttext chrometabsqueri currentwindow true tab tabsforeachtab chromescriptingexecutescript target tabid tabid func gettextcont thenresult resultsforeachresult savetextcontenttaburl resultresult catcherror consoleerrorerror execut script tab tabid error function gettextcont return documentbodyinnertextfunct savetextcontenturl content chromeruntimesendmessag action savecont url url content content popupjsjavascriptcopi codedocumentgetelementbyidextractaddeventlistenerclick chromeruntimesendmessag action extracttext contentj need receiv save content background scriptjavascriptcopi codechromeruntimeonmessageaddlistenermessag sender sendrespons messageact savecont const url content messag use background script anoth mechan save content savecontentlocallyurl content function savecontentlocallyurl content const blob new blobcont type textplain const filenam urlreplaceaz09gi tolowercas txt const link documentcreateelementa linkhref urlcreateobjecturlblob linkdownload filenam linkclickmanifestjsonmak sure manifest file includ requir permiss point scriptsjsoncopi code manifestvers 3 name text content extractor version 10 permiss tab activetab script download background servicework backgroundj action defaultpopup popuphtml 2 organ save contentfor save content way easili access python ml model consid follow approachcr directori structur organ directori text file name structur way reflect sourc websitesav text file save text content file use savecontentloc function directli via filesav mechan background scriptexampl directori structurecopi codecorpus├── website1txt├── website2txt├── website3txt└── 3 use python process text dataonc text file save use python load file prepar ml modelpython script examplepythoncopi codeimport osdef loadcorpuscorpusdir corpu filenam filenam oslistdircorpusdir filenameendswithtxt openospathjoincorpusdir filenam r encodingutf8 file text fileread corpusappendtext filenamesappendfilenam return corpu filenam exampl usagecorpusdir pathtoyourcorpusdirectorycorpu filenam loadcorpuscorpusdir corpu contain text document filenam contain correspond filenam use data train ml modelsummaryextract text use chrome extens scrape save text content websitessav text save text content separ file ensur file correspond differ websiteload text use python load organ text file ml modelthi approach ensur document corpu clearli separ websit facilit effect train group similaritywhi cant save background script chatgptyou save content directli background script chrome extens howev chrome extens limit access filesystem secur reason direct access local filesystem like regular applic instead use chrome download api save filesher ’ modifi background script save text content use chrome download apistep save text content background scriptus download api use chromedownloadsdownload save text content filesgener filenam creat uniqu filenam websitecr download file convert text content blob trigger downloadmodifi background scriptbackgroundjsjavascriptcopi codechromeruntimeonmessageaddlistenermessag sender sendrespons messageact extracttext chrometabsqueri currentwindow true tab tabsforeachtab chromescriptingexecutescript target tabid tabid func gettextcont thenresult resultsforeachresult savetextcontenttaburl resultresult catcherror consoleerrorerror execut script tab tabid error function gettextcont return documentbodyinnertextfunct savetextcontenturl content const filenam generatefilenameurl const blob new blobcont type textplain const urlobject urlcreateobjecturlblob chromedownloadsdownload url urlobject filenam filenam savea fals downloadid chromeruntimelasterror consoleerrorchromeruntimelasterror els consolelogdownload start filenam id downloadid function generatefilenameurl return urlreplaceaz09gi tolowercas txtexplanationextract text content chromescriptingexecutescript function run gettextcont function tab return bodi text contentsav text content savetextcont function convert text content blob trigger download use chromedownloadsdownload methodgener filenam generatefilenam function creat filenam base url ensur uniqu filesystemfriendlyrequir permissionsensur manifestjson includ necessari permiss download filesjsoncopi code manifestvers 3 name text content extractor version 10 permiss tab activetab script download background servicework backgroundj action defaultpopup popuphtml use popuppopuphtmlhtmlcopi codedoctyp htmlhtmlhead titleextract texttitleheadbodi button idextractextract text tabsbutton script srcpopupjsscriptbodyhtmlpopupjsjavascriptcopi codedocumentgetelementbyidextractaddeventlistenerclick chromeruntimesendmessag action extracttext conclusionbi use chrome download api background script directli save text content extract websit file user comput method allow organ text data effici later use python ml mode way preprocess data iin python isnt read text file chatgpty sever way preprocess data python without read text file depend data store plan use use variou method librari preprocess data directli python1 use api fetch datay fetch data directli web api use librari like requestsexampl fetch data apipythoncopi codeimport requestsrespons requestsgethttpsapiexamplecomdatadata responsejson assum api return json data preprocess dataprocesseddata preprocessdatadata2 use databasesif data store databas use librari like sqlite3 sqlite databas pymysql mysql databas fetch preprocess dataexampl fetch data sqlite databasepythoncopi codeimport sqlite3conn sqlite3connectexampledbcursor conncursorcursorexecuteselect datatabledata cursorfetchal preprocess dataprocesseddata preprocessdatadataconnclose3 use panda csv excel formatsth panda librari read data variou format like csv excel json etcexampl read data csv filepythoncopi codeimport panda pddf pdreadcsvdatacsv preprocess datadfprocessedcolumn dfrawcolumnapplysomeprocessingfunction4 web scrapingfor websit provid api use web scrape librari like beautifulsoup seleniumexampl web scrape beautifulsouppythoncopi codeimport requestsfrom bs4 import beautifulsouprespons requestsgethttpsexamplecomsoup beautifulsoupresponsetext htmlparserdata soupfindallp exampl extract paragraph preprocess dataprocesseddata preprocessdataptext p data5 stream dataif your deal stream data use librari like kafkapython apach kafka tweepi twitter dataexampl stream data twitter tweepypythoncopi codeimport tweepi authenticationauth tweepyoauthhandlerconsumerkey consumersecretauthsetaccesstokenaccesstoken accesstokensecretapi tweepyapiauth stream tweetsclass mystreamlistenertweepystreamlisten def onstatusself statu printstatustext preprocess data processeddata preprocessdatastatustextmystreamlisten mystreamlistenermystream tweepystreamauthapiauth listenermystreamlistenermystreamfiltertrackpython6 inmemori dataif data alreadi memori perhap previou comput anoth part program preprocess directlyexampl process inmemori datapythoncopi codedata sampl sentenc anoth sampl sentenc preprocess dataprocesseddata sentencelow sentenc datapreprocess function exampleher exampl simpl preprocess function might appli datapythoncopi codedef preprocessdatadata exampl preprocess step data itemstrip item data remov leadingtrail whitespac data itemlow item data convert lowercas add preprocess step need return datasummarydepend sourc format data fetch preprocess data variou way pythonfetch data web api use requestsaccess data databas use sqlite3 pymysql etcread data file like csv excel json use pandasweb scrape use beautifulsoup seleniumstream data use librari like kafkapython tweepyprocess data alreadi memorybi choos appropri method data sourc effici preprocess data use ml modelssay want websit consid singl document want train python llm text content websit handl data javascript frontend python backend chatgptto handl data flow javascript frontend ie chrome extens python backend train languag model follow stepsextract text content frontend use chrome extens extract text content websitessend data backend transfer extract text content chrome extens python backendprocess data backend receiv text data backend store appropri train modeldetail steps1 extract text content frontendy alreadi script extract text content websit refin versionbackgroundjsjavascriptcopi codechromeruntimeonmessageaddlistenermessag sender sendrespons messageact extracttext chrometabsqueri currentwindow true tab tabsforeachtab chromescriptingexecutescript target tabid tabid func gettextcont thenresult resultsforeachresult sendtextcontenttobackendtaburl resultresult catcherror consoleerrorerror execut script tab tabid error function gettextcont return documentbodyinnertextfunct sendtextcontenttobackendurl content fetchhttplocalhost5000upload method post header contenttyp applicationjson bodi jsonstringifi url url content content thenrespons responsejson thendata consolelogsuccess data catcherror consoleerrorerror errorpopupjsjavascriptcopi codedocumentgetelementbyidextractaddeventlistenerclick chromeruntimesendmessag action extracttext 2 set python backendy set simpl python backend use flask receiv text contentapppypythoncopi codefrom flask import flask request jsonifyimport osapp flasknameuploadfold corpusosmakedirsuploadfold existoktrueapprouteupload methodspostdef uploadtext data requestgetjson url datageturl content datagetcont url content filenam urlreplacehttp replacehttp replac txt filepath ospathjoinuploadfold filenam openfilepath w encodingutf8 file filewritecont return jsonifystatu success filenam filenam 200 els return jsonifystatu failur reason invalid data 400if name main apprunhost0000 port50003 preprocess train modelonc text content save corpu directori preprocess train model use save text filespreprocess script examplepythoncopi codeimport osdef loadcorpuscorpusdir corpu filenam filenam oslistdircorpusdir filenameendswithtxt openospathjoincorpusdir filenam r encodingutf8 file text fileread corpusappendtext filenamesappendfilenam return corpu filenam exampl usagecorpusdir corpuscorpu filenam loadcorpuscorpusdir preprocess text data neededprocessedcorpu preprocesstextdoc doc corpu train model processedcorpusexampl preprocess functionpythoncopi codedef preprocesstexttext implement preprocess step text textlow text joinchar char text charisalnum charisspac return textsummaryfrontend chrome extensionextract text content websitesend text content backend use post requestbackend python flaskrec text content save individu text filesensur filenam uniqu indic sourc urltrain preparationload save text filespreprocess text datatrain machin learn model preprocess databi follow step seamlessli handl data extract frontend transfer backend prepar train python languag model4ochatgpt make mistak check import infonuha softwar engin summari', 'python oslistdir method geeksforgeek skip contenttutorialsdsadata scienceweb techcoursessign inpython basicsinterview questionspython quizpopular packagespython projectspractic pythonai pythonlearn python3python automationpython web devdsa pythonpython oopslistsstringsdictionarieso modul python examplesprocess parametersinherit file descriptorsinterfac schedulersystem informationfil directoriespython oslink methodpython oslistdir methodpython osmkdir methodpython osmakedir methodpython osmkfifo methodpython osmajor methodpython osminor methodpython osmakedev methodpython osreadlink methodpython osremov methodpython osremovedir methodpython osrenam methodpython osrenam methodpython osreplac methodpython osrmdir methodpython osscandir methodpython osstat methodpython osstatvf methodpython ossync methodpython ostrunc methodpython osunlink methodoswalk pythonpython osabort methodpython osexit methodpython osfork methodpython oskil methodpython osnic methodpython ossystem methodpython ostim methodpython oswait methodpython osopen methodprocess managementfil descriptor operationspython oslistdir methodlast updat 16 jan 2024the oslistdir method python use get list file directori specifi directori ’ specifi directori list file directori current work directori returnedoslistdir method syntax pythonsyntax oslistdirpathparamet path option path directoryreturn type method return list file directori specifi path return type method listtop vs code extens web develop 2024 geeksforgeeksskippython oslistdir method examplebelow exampl python oslistdir method os modulelist file directori python use oslistdir methodin exampl code use oslistdir obtain list file directori root directori “ ” print obtain list output includ file directori present specifi root directorypython3 import os modul import os get list file directori path dirlist oslistdirpath printfil directori path print list printdirlistoutputfil directori sy run tmp boot mnt dev proc var bin lib64 usr lib srv home etc opt sbin medialist file directori current directori use oslistdirin exampl code util oslistdir method obtain list file directori current work directori osgetcwd method print obtain list provid inform file directori present current work directorypython3 import os modul import os get path current work directori path osgetcwd get list file directori dirlist oslistdirpath printfil directori path print list printdirlistoutputfil directori homeihritik rstudiodesktop gnome ipython cach config ssh publicdesktop pki r bashhistori rhistori oraclejreusag music iceauthor document examplesdesktop swipldirhistori local gnupg profil pictur kera viminfo thunderbird templatesbashrc bashlogout sudoasadminsuccess video imag tfwxmodel download mozilla geeksforgeekslist file directori path specifiedin exampl code use oslistdir obtain list file directori current work directori print obtain list provid inform file directori present current work directori path specifi default current work directorypython3 import os moduleimport os oslistdir method return pathdirlist oslistdirprintfil directori current work directori print listprintdirlistoutputfil directori current work directori rstudiodesktop gnome ipython cach config ssh publicdesktop pki r bashhistori rhistori oraclejreusag music iceauthor document examplesdesktop swipldirhistori local gnupg profil pictur kera viminfo thunderbird templatesbashrc bashlogout sudoasadminsuccess video imag tfwxmodel download mozilla geeksforgeeksfrequ ask question faqswhat understand oslistdir methodoslistdir python method use obtain list file directori specifi path current work directori path provid method return list allow easi explor manipul file system content python scriptthi cours well structur easi learn anyon zero experi data scienc python ml learn cours make thing easi anybodi learn help lot thank creat great cours ayushi jain place microsoftnow chanc unlock highearn job opportun data scientist join complet machin learn data scienc program get 360degre learn experi mentor industri expertsget hand practic 40 industri project regular doubt solv session much regist program today22 suggest improvementpreviouspython osmkfifo methodnextpython osminor methodshar thought commentsadd commentsimilar readsoslistdir work pythonhow use regex oslistdir pythonclass method vs static method vs instanc method pythonclass method vs static method pythondiffer method overload method overrid pythonpanda datafram iterrow method panda methodpanda datafram interpol method panda methodpanda datafram duplic method panda methodpython dictionari get methodrealtim edg detect use opencv python canni edg detect methodiihritikarticl tag pythonosmodul pythonpractic tag pythona143 9th floor sovereign corpor tower sector136 noida uttar pradesh 201305companyabout uslegalcareersin mediacontact usadvertis usgfg corpor solutionplac train programexplorehackathonsgfg weekli contestdsa javacmast system designmast cpgeeksforgeek videosgeek communitylanguagespythonjavacphpgolangsqlr languageandroid tutorialtutori archivedsadata structuresalgorithmsdsa beginnersbas dsa problemsdsa roadmaptop 100 dsa interview problemsdsa roadmap sandeep jainal cheat sheetsdata scienc mldata scienc pythondata scienc beginnermachin learn tutorialml mathsdata visualis tutorialpanda tutorialnumpi tutorialnlp tutorialdeep learn tutorialhtml csshtmlcssweb templatescss frameworksbootstraptailwind csssasslessweb designdjango tutorialpython tutorialpython program examplespython projectspython tkinterweb scrapingopencv tutorialpython interview questioncomput scienceoper systemscomput networkdatabas manag systemsoftwar engineeringdigit logic designengin mathsdevopsgitawsdockerkubernetesazuregcpdevop roadmapcompetit programmingtop ds algo cptop 50 treetop 50 graphtop 50 arraytop 50 stringtop 50 dptop 15 websit cpsystem designhigh level designlow level designuml diagramsinterview guidedesign patternsooadsystem design bootcampinterview questionsjavascriptjavascript examplestypescriptreactjsnextjsangularjsnodejslodashweb browserprepar cornercompanywis recruit processresum templatesaptitud preparationpuzzlescompanywis preparationschool subjectsmathematicsphysicschemistrybiologysoci scienceenglish grammarworld gkmanag financemanagementhr managementfinanceincom taxorganis behaviourmarketingfre onlin toolstyp testimag editorcod formatterscod converterscurr converterrandom number generatorrandom password generatormor tutorialssoftwar developmentsoftwar testingproduct managementsapseo search engin optimizationlinuxexcelgeeksforgeek videosdsapythonjavacdata sciencec subjectsgeeksforgeek sanchhaya educ privat limit right reservedw use cooki ensur best brows experi websit use site acknowledg read understood cooki polici privaci policygot sell share person inform', 'ajax possibl write file disk use javascript stack overflow skip main contentstack overflowproductsoverflowaihumanroach1 1 reputationshar experi take 2024 develop surveyhomequestionstagssavesuserscompanieslabsjobsnewdiscussionscollectivescommun favorit technolog explor collectivesteamsask question find answer collabor work stack overflow teamsexplor team creat free teamlook teamsi possibl write file disk use javascriptask questionask 15 year 4 month agomodifi 3 year 9 month agoview 34k times14i noviceintermedi programm take stab ajax read javascript found curiou exampl ive draw use php oper know mani may argu im wrong javascript clientsid languag etc question stand write file javascriptjavascriptajaxshareeditfollowget updat question answersedit may 25 2017 2003ask jan 20 2009 1535asdfqwer49222 gold badges55 silver badges1414 bronz badgesadd comment9 answerssort byhighest score defaulttrend recent vote count mored modifi newest firstdat creat oldest first20y cours depend api object javascript engin make avail youhowev odd javascript engin your think provid capabl definit none major web browser allow itshareeditfollowansw jan 20 2009 1539joel coehoorn409k114114 gold badges575575 silver badges808808 bronz badges1som browser allow support file system access api – anderson green feb 21 2022 325andersongreen dont think exist 2009 good addit question mayb provid new answer – joel coehoorn feb 21 2022 1544add comment16y write cooki javascript newer browser also sqlite databas store client side data store data arbitrari locat disk thoughshareeditfollowansw jan 20 2009 1541bontakun16122 bronz badgesadd comment6y use someth like googl gear produc js applic capabl store data local cach databas cant read write arbitrari area disk though written 2009 googl gear deprecatedthes day look local storag capabl provid html5shareeditfollowedit apr 18 2012 1420matt749k2626 gold badges154154 silver badges180180 bronz badgesansw jan 20 2009 1545paul dixon299k5454 gold badges313313 silver badges348348 bronz badgesadd comment4no could use javascript creat ajax request serversid process script allow js directli write disk either clientsid serversid would massiv nasti glare unforgiv browser secur holeshareeditfollowansw jan 20 2009 1539ceejayoz179k4141 gold badges305305 silver badges374374 bronz badgesadd comment2th short answer default write file local disk use plain javascript browser youll need helper exampl tiddlywiki wiki engin singl static html file write disk help java applet tiddli savershareeditfollowansw jan 20 2009 1546ate goral139k2727 gold badges140140 silver badges190190 bronz badgesadd comment1next version chrome v52 made possibl fetch api servic worker stream enabl stream flagyou go streamsaverj see exampl use ityou someth like thisconst writestream fscreatewritestreamfilenametxtconst encod new textencoderlet data arepeat1024let uint8array encoderencodedata nnwritestreamwriteuint8arraywritestreamcloseor go ahead look demo httpsjimmywartinggithubiostreamsaverjsexamplehtmlshareeditfollowansw jun 8 2016 923endless361k1313 gold badges112112 silver badges134134 bronz badgesadd comment1y window script hostshareeditfollowansw jan 20 2010 1922zslevi40922 silver badges1010 bronz badgesadd comment0if need let user download file txt csv imag other via browser download dialog use data uri href download tagfor exampl text filea hrefdatatextplaincharsetutf8texther downloadfilenametxt click download ayou also set attribut href download use javascript use elementclick trigger downloadhowev method write file without user confirm file download dialogshareeditfollowansw aug 18 2020 1038northnroro54511 gold badge66 silver badges1010 bronz badgesadd comment0nop javascript allow access filesystem secur restrict browser way realli activex limit use ieedit post state could possibl engin allow howev dont know one browser engin asusm write allow toshareeditfollowedit jan 20 2009 1545answer jan 20 2009 1539sam cogan424477 gold badges4747 silver badges7676 bronz badgesactivex way use java without limit ie – ate goral jan 20 2009 15431we talk javascript java common way ask activex whic limit ie – sam cogan jan 20 2009 15443how activex javascript java your simpli embed addit object insid html file let javascript use helper – ate goral jan 20 2009 1609add commentyour answerpost answernot answer your look brows question tag javascriptajax ask questionth overflow blogoverflowai holi grail searchth good bad disrupt let us know stand thefeatur metaour partnership openaiwhat deliver would like see work groupth price tag burninatedpolici gener ai eg chatgpt bannedth 2024 develop survey launch todaylinked1writ file disk25how save png javascript variable4j save upload file disc1javascript logger roll file2cal extern javascript function java1export user input html txt file use javascript only1gwt download file client side without server intervention0sav select part web page text file use javascript1append file use javascriptrelated2can javascript use write file23can write file html5js1how write file server javascript0writeread file server ajax4can saveload file via javascript295i possibl write data file use javascript2poss open write local file use javascript0i way creat file write data use javascriptjquery1javascriptajax write file2can write file use xmlhttprequesthot network questionstikz node posit along edg express absolut distancei problem wash machin plug gfci outletgamma regress xgboostwould equatori region altern earth spin two axe still 5° median equatorar danger consequ allow spend inspir rerollshow draw diagram tikz posit neg barsfreewheel removalcan 1930 box support ceil fanhow photon temperaturehow long malwar last wildwhat blue squar volumetr flask meanimag recognit air air missileshow remov handl vintag sinkyou cant tell us lack –appeal australian visa refus touristdecod caesar ciphertext high probabilityth older smarter wisdom time scientif proven fact human prejudiceshow much rehabparti rebuild done keep exist mortgagewhat minimum system requir run gwbasichow becom witch fiction novel girl find howto book witch librarymi mac mini clipboard histori laptop clipboard histori freak outwhi donald e knuth use obeylin gdef instead defar spectral subtyp logarithm scale linear onefmap contain c question feedstack overflowquestionshelpproductsteamsadvertisingcollectivestalentcompanyaboutpresswork herelegalprivaci policyterm servicecontact uscooki settingscooki policystack exchang networktechnologycultur recreationlif artsscienceprofessionalbusinessapidatablogfacebooktwitterlinkedininstagramsit design logo © 2024 stack exchang inc user contribut licens cc bysa rev 20245209450', 'transfer data java python rlearnprogram skip main contenthow transfer data java python rlearnprogrammingget applog inexpand user menugo learnprogrammingrlearnprogramming•7 yr agoempolehow transfer data java pythonhelloim concurr run two separ program one java anoth python need get data java program python one im sure could current applic wouldnt allow use jython solut would pretti cooledit numer data linuxarchiv post new comment post vote castnytimescomlearn moresort byevulrabbitz•7i agowhat kind data oper systemher gener read httpsenwikipediaorgwikiinterprocesscommunication1 replyrjcarr•7i agoy check outhttpsenwikipediaorgwikiinterprocesscommunicationif use jython probabl make method call two codebases1 replypleaseholdmybeer•7i agodo need instantan could use actual databas moreso look eventbas data2 repliesdesrtfx•7i agosinc think event driven dataset socket listen python wait new data comesend data java via network socketsdoesnt matter program run machin network socket work everywherey could basic achiev small flaskweb server python well java applic push data1 replytop 1rank size relatedprogrammingtechnologyforwardbacktop postsredditrereddit top post august 8 2017redditrereddit top post august 2017redditrereddit top post 2017topicsinternet cultur viralgamesqastechnologypop culturemovi tvresourcesabout redditadvertisehelpblogcareerspresscommunitiesbest reddittopicscont policyprivaci policyus agreementreddit inc © 2024 right reserv', '23 feed linkedin 0 notif totalskip searchskip main contentkeyboard shortcutsclos jump menuhomemi networkjobsmessaging2323 new notificationsnotificationsmefor businessmi premiumnuha rahmanucr cs 2023 prev sde intern expediaprofil viewers147connectionsmanag network621sav itemsgroupsse groupseventsse eventsfollow hashtagsse follow hashtagsdiscov morestart postmediaeventwrit articlesort bytopfe updatesfe post number 1suggestedrajat gajbhiyerajat gajbhiy • 3rd • 3rdsde suma soft javascript microservic mern kafka gcp typescript nextj java open collaboration✌️sd suma soft javascript microservic mern kafka gcp typescript nextj java open collaboration✌️book appointment2d • 2 day agofollowcompani list hire 100 remote1 quest softwar httpsinkdingqab5rtn2 upstart httpslnkding3sxd8dz3 celigohttpslnkdingkhsmxni us india 4 cengag group httpslnkdinggkt6jrz5 docker inc httpslnkdingfx5pqg6 him httpslnkdingrsdvde7 usergem httpslnkdingxi3mnf68 abnorm secur httpslnkdingn5m4vdf9 cash app httpslnkdingdp8yum810 logicg httpslnkdingjgx27bc11 fair httpslnkdingyrnr9vm12 renaissanc httpslnkdingesimdw13 rec room httpslnkdingerdutna14 vgshttpslnkding7ajb77f15 vast data httpslnkdingmuft4y916 sorcero httpslnkdingpmdtnh717 mcgraw hill httpslnkding59pzff418 patreon httpslnkdingzqptmcq19 beekeep httpslnkdingxd7rs7q mnn20 upworkhttpslnkdingt4hymd621 docusign httpslnkdinggfunczf22 dealhubio httpslnkdingyned4yp23 censu httpslnkdingaq7pgzc24 intrado httpslnkdingh3wunwz25 cloudflar httpslnkding9jpxp2f26 fundedclub httpslnkdingph4faza27 workiva httpslnkdingfuyydr 28 missionwir httpslnkdingma6avdg29 workera httpslnkding2yzzuh30 jeniu bank httpslnkdingxgqhgkh31 goinstacar httpslnkdind6zn5fvd32 upler httpswwwuplerscom33 quantum httpslnkdind8jfceuu34 canon httpslnkdind9mf5rr335 kemecon httpkemeconcom36 gitlab httpslnkdind2egykrv37 digitalocean httpslnkdindygdzwf38 atlassian httpslnkdindpsfzft39 angelon httpslnkdindk3nwdn640 shopifi httpslnkdind9zpgkty41 appcu httpslnkdindp2jiupp42 arkenc httpslnkdindbbwzar43 automatt httpslnkdinddsbdusv44 awesomemot httpslnkdindizzjb4j45 buffer httpslnkdind7ihgxka46 constructor httpslnkdindabzmdxm47 contra httpscontracomcareers48 doist httpsdoistcomcareers49 duckduckgo httpslnkdindkv9dm650 boldhttpslnkdindzq8dqnq51 akamai technolog httpslnkdindptn5npt52 cloudb httpslnkdindg3gc5v653 mentors httpslnkdind8yyghnh54 expert think httpslnkdindz4hfui55 ivisa httpsivisabreezyhr56 affordm httpwwwaffordmatecom57 xapobank httpwwwxapobankcom58 symetra httpwwwsymetracompleas share network peopl benefit ithashtaghir hashtagwfhjob hashtaglinkedin hashtagjob hashtagfresh hashtagjob …see morehow work remot impact job satisfactionwhat quest softwar known for48030 comments56 repostslikecommentrepostsendskip linkedin newsfe post number 2snowflakesnowflakepromotedpromotedjoin us free instructorl handson lab learn easi turn organ datadriven businesshar power snowflakesnowflakecomregist view sponsor contentregister2889mrinisha adhikari 2888 others57 comments171 repostslikecommentrepostsendskip linkedin newsfe post number 3javier becerril like thisakshita guptaakshita gupta • 3rd • 3rdupcom gpu intern intel mtech cse iiit pune25 xro fellowmeta mlh fellow mit grand hack winnerupcom gpu intern intel mtech cse iiit pune25 xro fellowmeta mlh fellow mit grand hack winner22h • edit • 22 hour agofollow📢 excit news mlh fellowship fall 2024 😎 learn softwar engin open sourc project fulli remot 12week internship altern 💲earn stipend5000💸 collabor peer top engin real projects🖥️ level skill softwar engin web3 engin site reliabl engineeringif your interest learn complet process mlh fellowship—includ essay code sampl interviews—check video made commun httpslnkdind7brdmgnimport date 👇 fall 2024 start 16 septemb 2024deadlin applic apac 15 juli 2024deadlin applic region 31 august 2024it recommend appli 23 month program start date good luckappli 🖇 httpsfellowshipmlhio…se moreactiv view larger imageactiv view larger imagelearn mlh fellowshipwhat happen fall 2024what softwar engin do463javi becerril 462 others20 comments23 repostslikecommentrepostsendskip linkedin newsfe post number 4intern guy repost thishannan hussainhannan hussain • follow • followingceo founder intern guysceo founder intern guys11h • 11 hour agoi tri hire intern todayjust classic monday meme yall activ view larger imageactiv view larger image83 repostslikecommentrepostsendskip linkedin newsfe post number 5linkedin premium perkslinkedin premium perksenjoy free access audibl plu calm microsoft 365 premium enjoy free access audibl plu calm microsoft 365 premium redeem freeskip linkedin newsfe post number 6purdu univers onlinepurdu univers online3755 followers3755 followerspromotedpromotedrank 1 us news world report 2024 purdu ’ onlin interdisciplinari dual master ’ engin master busi administr highlyvalu graduat program build bridg engin busi education…se more1 rank onlin engin manag graduat programengineeringpurdueedulearn view formlearn more672 commentslikecommentrepostsendskip linkedin newsfe post number 7jonathan trujillo comment thiselliot roeelliot roe • 3rd • 3rdfounder bx code cs georgia techfound bx code cs georgia tech1w • 1 week agofollowstil look summer 2024 softwar develop internship ’ look bring student team bx code summer📄 detail 25hr remot fulltim may 20th august 2ndbx code missiondriven comput scienc educ nonprofit aim inspir empow next gener stem leader cuttingedg educ technologywer look bring frontend engin intern summer help push project bx code public releas come join us your readi ship code fast take lead build impact opensourc edtech appstag someon would interest 👋🏻 ’ reach here look dev 👀📚 passion edtech🖥 frontend experience📲 expert communicator⚡️ ship fast🔗 drop resum bxcodingorgjobcode🔗 newslett httpslnkdinevh4mws…se moreactiv view larger imageactiv view larger imagelearn bx codingwhat frontend engin intern dowhat impact softwar develop internship student career25164 comments19 repostslikecommentrepostsendopen emoji keyboardjonathan trujillo • 1stpresid acmucr incom soma realiti cs ucr1whi elliot submit resum look forward perfect opportun demonstr expertis front end developmentlikereplyshow 10 commentsskip linkedin newsfe post number 8brian eappen repost thisbrandon zanderbrandon zander • 2nd • 2ndsoftwar engineersoftwar engineer6d • 6 day agofollowhey everyon due unforeseen layoff ’ lookout new role would realli appreci support hear excit opportun open chat send messag comment hashtagopentowork…se morebrandon open worklook softwar engin rolesview job preferences19brian eappen 18 others4 comments3 repostslikecommentrepostsendskip linkedin newsfe post number 9wheel upwheel up66169 followers66169 followers3d • edit • 3 day ago2 graduat 500 mile apart 24 hourshashtagupthewayyouflylaura brodi heltebranlaura brodi heltebran • 3rd • 3rdchief legal offic corpor secretari csuit ipo restructuringchief legal offic corpor secretari csuit ipo restructuring3d • 3 day agofolloww face imposs dilemma two kid graduat colleg 24 hour 500 mile apart – would heartbroken draw straw see attend graduat fli wheel allow us ava univers georgia john jame madison univers neither near commerci airport 1000 mile total 24 hour lifetim memori happi mama thank wheel hashtagupthewayyoufli ava heltebran john heltebran david heltebran…se moreplaywhat tell jame madison universityhow fli wheel facilit attend event far commerci airports2216 comments5 repostslikecommentrepostsendskip linkedin newsskip linkedin newsskip linkedin newsskip linkedin newsskip linkedin newsskip linkedin newsskip linkedin newsskip linkedin newsskip linkedin newsskip linkedin newsskip linkedin newsshow feed updateslinkedin newstop storiesdimon hint earlier retirement50m ago • 31898 readersth highest paid ceo 202345m ago • 16320 readersopenai drop johanssonlik voice47m ago • 10423 readersdisney pixar cut jobs18m ago • 211 readersonli 4 nyc rent affordable51m ago • 108 readersshow moreaboutaccessibilityhelp centerprivaci term ad choicesadvertisingbusi servic get linkedin appmor linkedin corpor © 2024statu onlinemessagingy messag overlay press enter minim itcompos messagey messag overlay press enter minim ittyp search connect conversationsfocusedotherattent screen reader user messag item continu updat pleas use tab shift tab key instead arrow key navig messag itemsstatu reachablejason shweirimay 13open option list convers jason shweiri nuha rahmany hi jason name nuha notic weve connect back hope your well wonder could offer insight upcom interview cantina help would greatli appreci thank younick stojanovichmay 12open option list convers nick stojanovichsponsor your invit live demo snowflakeandr avakianapr 30open option list convers andr avakiansponsor pepperdin parttim mbadash desaiapr 16open option list convers dash desaisponsor join us san francisco snowflak dev dayalexand walkerapr 16open option list convers alexand walker nuha rahmaninmail sr backend opportun lexisnexisclark chanapr 5open option list convers clark chan nuha rahmany hi clark name nuha recent graduat uc riversid bachelor cs interest learn interview experi zscaler sinc one come soon would realli appreci tip note prepar thanks1introductionmar 23open option list convers introductionshahid likewiseanirudh thatipellimar 23open option list convers anirudh thatipelli nuha rahmananirudh thank connect nuha impress intern expedia11 new notificationalexia mmar 15open option list convers alexia nuha rahmaninmail amazon career opportunitiesshafiur rahmanmar 15open option list convers shafiur rahman nuha rahmany im sorri didnt even realiz howev ive never luck tesla entri levelinternship haha appreci insight ill keep mind im appli futur ive never heard educativeio ill definit check thank look resum well hope keep touchnathan pereyrazelayamar 8open option list convers nathan pereyrazelaya nuha rahman hospit support opportun onsitechelsea janmar 7open option list convers chelsea jan nuha rahmany hi chelsea name nuha recent graduat ucr bs comput scienc notic mutual connect part theta tau thought would worthwhil send messag im super interest career okta your will would realli appreci help advic could give regard applic thank muchalex farnsworthfeb 19open option list convers alex farnsworth nuha rahmany thank alex excit meet tomorrow hope your good mondayjean philipp afeb 9open option list convers jean philipp asponsor flexibl ai code opportunitystatu onlinemikaela rissofeb 2open option list convers mikaela risso nuha rahmany hi mikaela name nuha recent ucr cs graduat spoke earlier week regard techop engin posit column pleasur speak would love stay touch connect thank youmushfequ ripon youfeb 1open option list convers mushfequ ripon nuharipon hey nuha noth yet ’ check againdora kingsley vertentenjan 27open option list convers dora kingsley vertentensponsor get lifetim access excel mpa onlinestatu reachablezachari petersenjan 26open option list convers zachari petersen nuha rahmanzachari hi nuha thank connect tell saif hi hope well best luck search know challeng new grad question want someon take look resum feel free reach outmushfequ farzana youjan 25open option list convers mushfequ farzana nuhay okay problem thank let know appreci itstatu reachableanthoni amounjan 23open option list convers anthoni amoun nuha rahmany hi anthoni your still look uxui design point direct someon would interest dont realli experi figma stuff like lot frontend develop sorri get back latestatu reachablejordel rodriguesjan 18open option list convers jordel rodrigu nuha rahmany sent postdora kingsley vertentenjan 2open option list convers dora kingsley vertentensponsor take advantag usc elit mpa program onlinedora kingsley vertentennov 13 2023open option list convers dora kingsley vertentensponsor might great fit usc ’ mpa program onlineowen riberaoct 27 2023open option list convers owen ribera nuha rahmany sent postabdur riley youoct 16 2023open option list convers abdur riley nuhariley great meet nuha connect best luck processtoonan abdur youoct 12 2023open option list convers toonan abdur nuhay httpscareerstiktokcomposition7267958207401576763detail httpscareerstiktokcomposition7275523963328416058detailstatu reachablekevin fichsep 13 2023open option list convers kevin fich nuha rahmankevin question lmk ’ see helpdora kingsley vertentensep 10 2023open option list convers dora kingsley vertentensponsor might great fit usc ’ mpa program onlinemuhammad khanaug 20 2023open option list convers muhammad khan nuha rahmanmuhammad ’ internshipstatu reachablekumar priyamaug 20 2023open option list convers kumar priyam nuha rahmankumar also work experiencestatu onlinevarun kannaaug 20 2023open option list convers nuha rahman varun kannavarun hi nuha saw common connect figur id say hi hope summer go wellstatu reachableyifan yujul 21 2023open option list convers yifan yu nuha rahmany likewisejalen xujul 21 2023open option list convers jalen xu nuha rahmanjalen see attend ucr wan na connectdora kingsley vertentenjun 23 2023open option list convers dora kingsley vertentensponsor might great fit usc ’ mpa program onlin']\n"
     ]
    }
   ],
   "source": [
    "ps = PorterStemmer()\n",
    "stop = set(stopwords.words('english'))\n",
    "\n",
    "def read_txt(file_path): \n",
    "    # read file contents by line \n",
    "    file = open(file_path, \"r\", encoding=\"utf-8\")\n",
    "    text = file.read() \n",
    "    text = re.sub(r'\\n', '', text)\n",
    "    text = text.translate(str.maketrans('', '', string.punctuation))\n",
    "    text = text.strip()\n",
    "    text = text.lower()\n",
    "    tokenized_words = word_tokenize(text)\n",
    "    tokenized_words = [w for w in tokenized_words if w not in stop]\n",
    "    tokenized_words = [ps.stem(word) for word in tokenized_words]\n",
    "    return ' '.join(tokenized_words)\n",
    "\n",
    "\n",
    "\n",
    "websites_preprocessed_data = [] \n",
    "for path in file_paths: \n",
    "    websites_preprocessed_data.append(read_txt(path))\n",
    "\n",
    "print(websites_preprocessed_data)"
   ]
  },
  {
   "cell_type": "markdown",
   "metadata": {},
   "source": [
    "# TF / IDF Frequency"
   ]
  },
  {
   "cell_type": "code",
   "execution_count": 4,
   "metadata": {},
   "outputs": [
    {
     "name": "stdout",
     "output_type": "stream",
     "text": [
      "3 109\n",
      "3 114\n",
      "3 166\n",
      "3 315\n",
      "3 82\n",
      "3 41\n",
      "3 142\n",
      "3 139\n",
      "3 105\n",
      "3 44\n",
      "3 48\n",
      "3 38\n",
      "3 95\n",
      "3 25\n",
      "3 74\n",
      "3 57\n",
      "3 8\n",
      "3 93\n",
      "3 29\n",
      "3 61\n",
      "3 17\n",
      "3 13\n",
      "2 2\n",
      "3 26\n",
      "1 1\n",
      "3 3\n",
      "3 20\n",
      "2 1\n",
      "3 3\n",
      "3 2\n",
      "3 2\n",
      "2 1\n",
      "2 1\n",
      "{'o': 0.0, 'n': 0.0, 'e': 0.0, ' ': 0.0, 'm': 0.0, 'v': 0.0, 'i': 0.0, 'a': 0.0, 't': 0.0, 'p': 0.0, 'h': 0.0, 'd': 0.0, 'r': 0.0, 'b': 0.0, 's': 0.0, 'c': 0.0, 'x': 0.0, 'l': 0.0, 'g': 0.0, 'u': 0.0, 'w': 0.0, 'y': 0.0, '1': 0.8109302162163288, 'k': 0.0, 'z': 1.0986122886681098, '2': 0.0, 'f': 0.0, '6': 0.4054651081081644, 'q': 0.0, 'j': 0.0, '0': 0.0, '“': 0.4054651081081644, '”': 0.4054651081081644}\n",
      "3 196\n",
      "3 183\n",
      "3 388\n",
      "3 78\n",
      "3 135\n",
      "3 156\n",
      "3 154\n",
      "3 123\n",
      "3 108\n",
      "3 74\n",
      "3 7\n",
      "3 27\n",
      "3 89\n",
      "3 42\n",
      "3 47\n",
      "3 19\n",
      "3 208\n",
      "3 22\n",
      "3 45\n",
      "3 57\n",
      "3 95\n",
      "3 24\n",
      "3 16\n",
      "3 45\n",
      "3 11\n",
      "2 1\n",
      "1 3\n",
      "3 2\n",
      "3 1\n",
      "3 2\n",
      "{'a': 0.0, 'i': 0.0, ' ': 0.0, 'c': 0.0, 'o': 0.0, 'n': 0.0, 't': 0.0, 'r': 0.0, 'l': 0.0, 'h': 0.0, 'j': 0.0, 'b': 0.0, 's': 0.0, 'g': 0.0, 'p': 0.0, 'y': 0.0, 'e': 0.0, 'k': 0.0, 'v': 0.0, 'u': 0.0, 'm': 0.0, 'f': 0.0, 'w': 0.0, 'd': 0.0, 'x': 0.0, '4': 0.4054651081081644, '5': 3.295836866004329, '2': 0.0, '0': 0.0, 'q': 0.0}\n",
      "3 3\n",
      "3 4\n",
      "2 1\n",
      "3 466\n",
      "3 110\n",
      "3 83\n",
      "3 232\n",
      "3 97\n",
      "3 258\n",
      "3 161\n",
      "3 63\n",
      "3 18\n",
      "3 75\n",
      "3 195\n",
      "3 32\n",
      "3 127\n",
      "3 169\n",
      "3 39\n",
      "3 161\n",
      "3 31\n",
      "3 169\n",
      "3 37\n",
      "3 101\n",
      "3 75\n",
      "3 58\n",
      "1 1\n",
      "3 30\n",
      "3 3\n",
      "3 15\n",
      "2 1\n",
      "3 3\n",
      "2 1\n",
      "2 1\n",
      "2 2\n",
      "1 2\n",
      "1 1\n",
      "{'2': 0.0, '0': 0.0, '1': 0.4054651081081644, ' ': 0.0, 's': 0.0, 'p': 0.0, 'a': 0.0, 'c': 0.0, 'e': 0.0, 'o': 0.0, 'd': 0.0, 'y': 0.0, 'h': 0.0, 'i': 0.0, 'b': 0.0, 'l': 0.0, 'n': 0.0, 'g': 0.0, 't': 0.0, 'w': 0.0, 'r': 0.0, 'k': 0.0, 'm': 0.0, 'u': 0.0, 'v': 0.0, '‘': 1.0986122886681098, 'f': 0.0, 'q': 0.0, 'x': 0.0, '4': 0.4054651081081644, 'j': 0.0, '“': 0.4054651081081644, '”': 0.4054651081081644, '6': 0.8109302162163288, '7': 2.1972245773362196, '3': 1.0986122886681098}\n"
     ]
    }
   ],
   "source": [
    "doc_occurrences = {}\n",
    "def get_frequencies(website): # takes the corpus, counts its frequencies occurred in doc and stores in dictionary \n",
    "    word_freq = {} # stores the frequency of each word in a doc \n",
    "    for word in website: \n",
    "        if word in word_freq: \n",
    "            word_freq[word] += 1 \n",
    "        else: \n",
    "            word_freq[word] = 1 \n",
    "    return word_freq \n",
    "\n",
    "def get_doc_occurrences(website_dict, websites, doc_occurrences): # get the number of websites a word appears in \n",
    "    for key in website_dict: \n",
    "        if key not in doc_occurrences: \n",
    "            ct = 0 \n",
    "            for website in websites: \n",
    "                if key in website: \n",
    "                    ct = ct + 1 \n",
    "            doc_occurrences[key] = ct \n",
    "    return doc_occurrences\n",
    "\n",
    "\n",
    "def calculate_tf_idf(website, websites, n, doc_occurrences): \n",
    "    word_freqs = get_frequencies(website)\n",
    "    tf_idf = {}\n",
    "    doc_occurrences = get_doc_occurrences(word_freqs, websites, doc_occurrences)\n",
    "    tf_idf = {} \n",
    "    for key in word_freqs: \n",
    "        doc_occurs = doc_occurrences[key]\n",
    "        print(doc_occurs, word_freqs[key])\n",
    "        tf_idf[key] = word_freqs[key] * math.log(n / doc_occurs)\n",
    "    print(tf_idf)\n",
    "    return tf_idf \n",
    "\n",
    "\n",
    "for website in websites_preprocessed_data: \n",
    "    calculate_tf_idf(website, websites_preprocessed_data, len(websites_preprocessed_data), doc_occurrences=doc_occurrences)\n",
    "\n",
    "\n",
    "\n",
    "\n",
    "\n",
    "\n",
    "\n",
    "\n",
    "\n"
   ]
  },
  {
   "cell_type": "markdown",
   "metadata": {},
   "source": [
    "# actual TF / IDF Frequency"
   ]
  },
  {
   "cell_type": "code",
   "execution_count": 4,
   "metadata": {},
   "outputs": [
    {
     "name": "stdout",
     "output_type": "stream",
     "text": [
      "         movie.txt  movie2.txt  movie3.txt\n",
      "2001      0.035696    0.000000    0.024381\n",
      "2077      0.000000    0.000000    0.032057\n",
      "40k       0.000000    0.000000    0.032057\n",
      "550       0.000000    0.037198    0.000000\n",
      "abil      0.000000    0.000000    0.032057\n",
      "...            ...         ...         ...\n",
      "world     0.027721    0.021970    0.037867\n",
      "worldth   0.000000    0.000000    0.032057\n",
      "would     0.027721    0.021970    0.018934\n",
      "xfile     0.046936    0.000000    0.000000\n",
      "young     0.046936    0.000000    0.000000\n",
      "\n",
      "[520 rows x 3 columns]\n",
      "<class 'pandas.core.frame.DataFrame'>\n"
     ]
    }
   ],
   "source": [
    "vectorizer = TfidfVectorizer(norm='l2', smooth_idf=True)\n",
    "website_content = [] \n",
    "def file_to_st(file_path): \n",
    "    file = open(file_path, \"r\", encoding=\"utf-8\")\n",
    "    text = file.read() \n",
    "    return text \n",
    "\n",
    "website_content.append(file_to_st(\"movie.txt\"))\n",
    "website_content.append(file_to_st(\"movie2.txt\"))\n",
    "website_content.append(file_to_st(\"movie3.txt\"))\n",
    "\n",
    "x = vectorizer.fit_transform(websites)\n",
    "tokens = vectorizer.get_feature_names_out()\n",
    "tfidf_df = pd.DataFrame(data = x.T.toarray(),index = tokens, columns = ['movie.txt', 'movie2.txt', 'movie3.txt'])\n",
    "print(tfidf_df)\n",
    "print(type(tfidf_df))\n",
    "\n",
    "\n"
   ]
  },
  {
   "cell_type": "markdown",
   "metadata": {},
   "source": [
    "# SVD "
   ]
  },
  {
   "cell_type": "code",
   "execution_count": 9,
   "metadata": {},
   "outputs": [
    {
     "name": "stdout",
     "output_type": "stream",
     "text": [
      "(520, 3)\n",
      "(520, 3)\n",
      "w:  [[0.02820312 0.02614555 0.02046649]\n",
      " [0.01532784 0.         0.03106882]\n",
      " [0.01532784 0.         0.03106882]\n",
      " ...\n",
      " [0.03235515 0.00781373 0.        ]\n",
      " [0.02175588 0.04807016 0.        ]\n",
      " [0.02175588 0.04807016 0.        ]] (520, 3)\n",
      "h:  [[0.69198507 0.71030221 0.71380236]\n",
      " [0.65880846 0.         0.        ]\n",
      " [0.         0.         0.55858965]] (3, 3)\n"
     ]
    }
   ],
   "source": [
    "# rank < min(m, n) for matrix m x n \n",
    "def svd_init(m, rank): \n",
    "    # convert from dataframe to array \n",
    "    arr = m.values\n",
    "    u, s, v = np.linalg.svd(arr, full_matrices=False)\n",
    "    v = v.T \n",
    "    w = np.zeros((arr.shape[0], rank)) \n",
    "    h = np.zeros((rank, arr.shape[1]))\n",
    "\n",
    "    w[:, 0] = np.sqrt(s[0]) * np.abs(u[:, 0])\n",
    "    h[0, :] = np.sqrt(s[0]) * np.abs(v[:, 0].T)\n",
    "\n",
    "    for i in range(1, rank): \n",
    "        print(u.shape)\n",
    "        x = u[:, i]\n",
    "        y = v[:, i]\n",
    "        x_p = (x >= 0) * x\n",
    "        x_n = (x < 0) * -x\n",
    "        y_p = (y >= 0) * y\n",
    "        y_n = (y <  0) * -y\n",
    "\n",
    "        xp_norm = np.linalg.norm(x_p, 2)\n",
    "        xn_norm = np.linalg.norm(x_n, 2)\n",
    "        yp_norm = np.linalg.norm(y_p, 2)\n",
    "        yn_norm = np.linalg.norm(y_n, 2)\n",
    "\n",
    "        p_norm = xp_norm * yp_norm \n",
    "        n_norm = xn_norm * yn_norm \n",
    "        if p_norm > n_norm: \n",
    "            u_i = x_p / xp_norm \n",
    "            v_i = y_p / yp_norm \n",
    "            sigma = p_norm \n",
    "        else: \n",
    "            u_i = x_n / xn_norm \n",
    "            v_i = y_n / yn_norm \n",
    "            sigma = n_norm \n",
    "        w[:, i] = np.sqrt(s[i] * sigma) * u_i\n",
    "        h[i, :] = np.sqrt(s[i] * sigma) * v_i.T \n",
    "\n",
    "    threshold = 1e-10 \n",
    "\n",
    "    w[w < threshold] = 0\n",
    "    h[h < threshold] = 0\n",
    "\n",
    "    return w, h \n",
    "        \n",
    "\n",
    "\n",
    "\n",
    "w, h = svd_init(tfidf_df, 3)\n",
    "print(\"w: \", w, w.shape)\n",
    "print(\"h: \", h, h.shape)\n"
   ]
  },
  {
   "cell_type": "markdown",
   "metadata": {},
   "source": [
    "# NMF"
   ]
  },
  {
   "cell_type": "code",
   "execution_count": null,
   "metadata": {},
   "outputs": [],
   "source": []
  }
 ],
 "metadata": {
  "kernelspec": {
   "display_name": "Python 3.11.9 64-bit",
   "language": "python",
   "name": "python3"
  },
  "language_info": {
   "codemirror_mode": {
    "name": "ipython",
    "version": 3
   },
   "file_extension": ".py",
   "mimetype": "text/x-python",
   "name": "python",
   "nbconvert_exporter": "python",
   "pygments_lexer": "ipython3",
   "version": "3.11.9"
  },
  "orig_nbformat": 4,
  "vscode": {
   "interpreter": {
    "hash": "5c7b89af1651d0b8571dde13640ecdccf7d5a6204171d6ab33e7c296e100e08a"
   }
  }
 },
 "nbformat": 4,
 "nbformat_minor": 2
}

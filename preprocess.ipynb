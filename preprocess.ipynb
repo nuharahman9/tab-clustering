{
 "cells": [
  {
   "cell_type": "markdown",
   "metadata": {},
   "source": [
    "# Load libraries / create tokenizer object "
   ]
  },
  {
   "cell_type": "code",
   "execution_count": 1,
   "metadata": {},
   "outputs": [],
   "source": [
    "import pandas as pd \n",
    "import string \n",
    "import numpy as np \n",
    "from nltk import word_tokenize\n",
    "from nltk.corpus import stopwords   \n",
    "from nltk.stem import PorterStemmer\n",
    "from sklearn.feature_extraction.text import TfidfVectorizer\n",
    "from collections import Counter \n",
    "import math\n",
    "import re "
   ]
  },
  {
   "cell_type": "markdown",
   "metadata": {},
   "source": [
    "# Preprocess data "
   ]
  },
  {
   "cell_type": "code",
   "execution_count": 2,
   "metadata": {},
   "outputs": [],
   "source": [
    "ps = PorterStemmer()\n",
    "stop = set(stopwords.words('english'))\n",
    "\n",
    "def read_txt(file_path): \n",
    "    # read file contents by line \n",
    "    file = open(file_path, \"r\", encoding=\"utf-8\")\n",
    "    text = file.read() \n",
    "    text = re.sub(r'\\n', '', text)\n",
    "    text = text.translate(str.maketrans('', '', string.punctuation))\n",
    "    text = text.strip()\n",
    "    text = text.lower()\n",
    "    tokenized_words = word_tokenize(text)\n",
    "    tokenized_words = [w for w in tokenized_words if w not in stop]\n",
    "    tokenized_words = [ps.stem(word) for word in tokenized_words]\n",
    "    return tokenized_words.join(\" \")\n",
    "\n",
    "websites = [] \n",
    "websites.append(read_txt(\"movie.txt\"))\n",
    "websites.append(read_txt(\"movie2.txt\"))\n",
    "websites.append(read_txt(\"movie3.txt\"))"
   ]
  },
  {
   "cell_type": "markdown",
   "metadata": {},
   "source": [
    "# TF / IDF Frequency"
   ]
  },
  {
   "cell_type": "code",
   "execution_count": null,
   "metadata": {},
   "outputs": [],
   "source": [
    "doc_occurrences = {}\n",
    "def get_frequencies(website): # takes the corpus, counts its frequencies occurred in doc and stores in dictionary \n",
    "    word_freq = {} # stores the frequency of each word in a doc \n",
    "    for word in website: \n",
    "        if word in word_freq: \n",
    "            word_freq[word] += 1 \n",
    "        else: \n",
    "            word_freq[word] = 1 \n",
    "    return word_freq \n",
    "\n",
    "def get_doc_occurrences(website_dict, websites, doc_occurrences): # get the number of websites a word appears in \n",
    "    for key in website_dict: \n",
    "        if key not in doc_occurrences: \n",
    "            ct = 0 \n",
    "            for website in websites: \n",
    "                if key in website: \n",
    "                    ct = ct + 1 \n",
    "            doc_occurrences[key] = ct \n",
    "    return doc_occurrences\n",
    "\n",
    "\n",
    "def calculate_tf_idf(website, websites, n, doc_occurrences): \n",
    "    word_freqs = get_frequencies(website)\n",
    "    tf_idf = {}\n",
    "    doc_occurrences = get_doc_occurrences(word_freqs, websites, doc_occurrences)\n",
    "    tf_idf = {} \n",
    "    for key in word_freqs: \n",
    "        doc_occurs = doc_occurrences[key]\n",
    "        print(doc_occurs, word_freqs[key])\n",
    "        tf_idf[key] = word_freqs[key] * math.log(n / doc_occurs)\n",
    "    print(tf_idf)\n",
    "    return tf_idf \n",
    "\n",
    "\n",
    "for website in websites: \n",
    "    calculate_tf_idf(website, websites, len(websites), doc_occurrences=doc_occurrences)\n",
    "\n",
    "\n",
    "\n",
    "\n",
    "\n",
    "\n",
    "\n",
    "\n",
    "\n"
   ]
  },
  {
   "cell_type": "markdown",
   "metadata": {},
   "source": [
    "# actual TF / IDF Frequency"
   ]
  },
  {
   "cell_type": "code",
   "execution_count": 4,
   "metadata": {},
   "outputs": [
    {
     "name": "stdout",
     "output_type": "stream",
     "text": [
      "<class 'str'>\n"
     ]
    },
    {
     "data": {
      "text/plain": [
       "'One of the movies about AI off the top of my head is iRobot, the one with Will Smith. It\\'s been a while since I\\'ve seen it so I don\\'t remember the exact plot of it, but I remember it was about a rogue AI, and there was a memorable conversation between one of the robots and Will Smith. In many ways I believe our current AI technologies already surpass that of the robots in this movie.\\n1) The Matrix Series. The Matrix takes place in a dystopian world where humans are trapped in a simulation made by crazily advanced AI systems. They use Natural Language Processing to talk to humans.\\n2) Blade. Blade is also set in a dystopian future in which AI called \"replicants\" are created to do boring work. However, as the AI became more advanced, they gained feelings that caused them to fight for the same rights as humans. They also use NLP to communicate with humans.\\nWhen I was young, I read this series called the Higher Institute of Villainous Education (HIVE), where an artificial intelligence became sentient and attacked its creators. Kind of like Terminator, but in book form, and for children.\\nI think the movie Big Hero 6 is relevant to AI because one of the characters, Baymax, uses AI to heal patients.\\xa0\\nStart up (K-drama): main character is a software engineer that makes a computer vision app that lets blind people ask a question like \"count the money in front of me\" or \"what is the object in front of me\", and the app will tell you what it is\\nImitation Game: Alan Turing makes a computer that does a search on the decryption code for the enigma machine\\nI think Iron Man is related to AI and NLP because the Iron Man suit (Jarvis) can understand human language and is an AI.\\nI think about HBO Silicon Valley specifically the last season where the main characters work on their product using an AI (black-box neural net).\\nI think the movie \"Resident Evil\" is a movie that has something to do with AI. In the movie the Red Queen (AI) is shown as a supercomputer in the movie.\\nI think a movie that is relevant may be something like Wall-E. I think this movie is relevant because Wall-E develops feelings similar to a human. He feels lonely and when he meets Eve he falls in love. This movie shows the power of AI.\\nThe Artificial Intelligence movie. It\\'s about a robot boy with his own awareness and the story between\\xa0 a family and him.\\nI can\\'t think of a specific game, but games that use speech recognition are relevant to NLP because it would require understanding natural language to function.\\nThe wandering earth 2. It is a renovation movie thinking about the potential problem while we developing AI.\\nWestworld, Deus Ex, X-files, 2001 a space Odyssey.\\ngame: son of the forest.\\nThe terminator could be relevant to NLP. The terminator has to communicate with humans using natural language. Therefore, for the purposes of communication, the inputs and outputs of the terminator are encoded in spoken natural languages, like english in the movies.\\xa0\\nAny time someone speaks to their AI to control it, there is NLP involved. Issuing verbal commands such as, “run simulation”, are an example of this.\\xa0\\nOne movie that I feel relates to AI is blade-runner, since the setting of the movie heavily relies on beings called reploids, which are essentially AGI.'"
      ]
     },
     "execution_count": 4,
     "metadata": {},
     "output_type": "execute_result"
    }
   ],
   "source": [
    "vectorizer = TfidfVectorizer(tokenizer=None)\n",
    "website_content = [] \n",
    "def file_to_st(file_path): \n",
    "    file = open(file_path, \"r\", encoding=\"utf-8\")\n",
    "    text = file.read() \n",
    "    return text \n",
    "\n",
    "website_content.append(file_to_st(\"movie.txt\"))\n",
    "website_content.append(file_to_st(\"movie2.txt\"))\n",
    "website_content.append(file_to_st(\"movie3.txt\"))\n",
    "\n",
    "\n",
    "\n",
    "\n",
    "\n",
    "\n",
    "\n"
   ]
  }
 ],
 "metadata": {
  "kernelspec": {
   "display_name": "Python 3.11.5 64-bit",
   "language": "python",
   "name": "python3"
  },
  "language_info": {
   "codemirror_mode": {
    "name": "ipython",
    "version": 3
   },
   "file_extension": ".py",
   "mimetype": "text/x-python",
   "name": "python",
   "nbconvert_exporter": "python",
   "pygments_lexer": "ipython3",
   "version": "3.11.5"
  },
  "orig_nbformat": 4,
  "vscode": {
   "interpreter": {
    "hash": "b0fa6594d8f4cbf19f97940f81e996739fb7646882a419484c72d19e05852a7e"
   }
  }
 },
 "nbformat": 4,
 "nbformat_minor": 2
}

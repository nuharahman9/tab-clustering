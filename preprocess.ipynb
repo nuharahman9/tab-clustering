{
 "cells": [
  {
   "cell_type": "markdown",
   "metadata": {},
   "source": [
    "# Load libraries / create tokenizer object "
   ]
  },
  {
   "cell_type": "code",
   "execution_count": 36,
   "metadata": {},
   "outputs": [],
   "source": [
    "import pandas as pd \n",
    "import numpy as np \n",
    "from nltk import word_tokenize\n",
    "from nltk.corpus import stopwords   \n",
    "import re "
   ]
  },
  {
   "cell_type": "markdown",
   "metadata": {},
   "source": [
    "# Preprocess data "
   ]
  },
  {
   "cell_type": "code",
   "execution_count": 38,
   "metadata": {},
   "outputs": [
    {
     "name": "stdout",
     "output_type": "stream",
     "text": [
      "['One', 'movies', 'AI', 'top', 'head', 'iRobot', 'one', 'Smith', 'since', 'seen', 'remember', 'exact', 'plot', 'remember', 'rogue', 'AI', 'memorable', 'conversation', 'one', 'robots', 'Smith', 'many', 'ways', 'believe', 'current', 'AI', 'technologies', 'already', 'surpass', 'robots', 'movie', '1', 'Matrix', 'Series', 'Matrix', 'takes', 'place', 'dystopian', 'world', 'humans', 'trapped', 'simulation', 'made', 'crazily', 'advanced', 'AI', 'systems', 'use', 'Natural', 'Language', 'Processing', 'talk', 'humans', '2', 'Blade', 'Blade', 'also', 'set', 'dystopian', 'future', 'AI', 'called', 'replicants', 'created', 'boring', 'work', 'However', 'AI', 'became', 'advanced', 'gained', 'feelings', 'caused', 'fight', 'rights', 'humans', 'also', 'use', 'NLP', 'communicate', 'humans', 'young', 'read', 'series', 'called', 'Higher', 'Institute', 'Villainous', 'Education', 'HIVE', 'artificial', 'intelligence', 'became', 'sentient', 'attacked', 'creators', 'Kind', 'like', 'Terminator', 'book', 'form', 'children', 'think', 'movie', 'Big', 'Hero', '6', 'relevant', 'AI', 'one', 'characters', 'Baymax', 'uses', 'AI', 'heal', 'patients', 'Start', 'K', 'drama', 'main', 'character', 'software', 'engineer', 'makes', 'computer', 'vision', 'app', 'lets', 'blind', 'people', 'ask', 'question', 'like', 'count', 'money', 'front', 'object', 'front', 'app', 'tell', 'isImitation', 'Game', 'Alan', 'Turing', 'makes', 'computer', 'search', 'decryption', 'code', 'enigma', 'machineI', 'think', 'Iron', 'Man', 'related', 'AI', 'NLP', 'Iron', 'Man', 'suit', 'Jarvis', 'understand', 'human', 'language', 'AI', 'think', 'HBO', 'Silicon', 'Valley', 'specifically', 'last', 'season', 'main', 'characters', 'work', 'product', 'using', 'AI', 'black', 'box', 'neural', 'net', 'think', 'movie', 'Resident', 'Evil', 'movie', 'something', 'AI', 'movie', 'Red', 'Queen', 'AI', 'shown', 'supercomputer', 'movie', 'think', 'movie', 'relevant', 'may', 'something', 'like', 'Wall', 'E', 'think', 'movie', 'relevant', 'Wall', 'E', 'develops', 'feelings', 'similar', 'human', 'feels', 'lonely', 'meets', 'Eve', 'falls', 'love', 'movie', 'shows', 'power', 'AI', 'Artificial', 'Intelligence', 'movie', 'robot', 'boy', 'awareness', 'story', 'family', 'think', 'specific', 'game', 'games', 'use', 'speech', 'recognition', 'relevant', 'NLP', 'would', 'require', 'understanding', 'natural', 'language', 'function', 'wandering', 'earth', '2', 'renovation', 'movie', 'thinking', 'potential', 'problem', 'developing', 'AI', 'Westworld', 'Deus', 'Ex', 'X', 'files', '2001', 'space', 'Odyssey', 'game', 'son', 'forest', 'AI', 'control', 'characters', 'jobs', 'assigned', 'player', 'robot', 'like', 'Karen', 'Spongebob', 'relevant', 'NLP', 'AI', 'human', 'still', 'feelings', 'thoughts', 'human', 'Bicentennial', 'Man', 'favorite', 'movie', 'AI', 'showed', 'robot', 'developed', 'human', 'like', 'traits', 'wanted', 'part', 'human', 'society', 'think', 'movie', 'Ex', 'Machina', 'relevant', 'NLP', 'AI', 'involves', 'creation', 'sentient', 'artificial', 'intelligence', 'uses', 'language', 'fool', 'humans', 'turing', 'test', 'Marvel', 'character', 'called', 'Vision', 'highly', 'advanced', 'AI', 'acts', 'like', 'regular', 'human', 'developed', 'Iron', 'Man', 'Iron', 'Man', 'suit', 'also', 'built', 'AI', 'assistant', 'Jarvis', 'NLP', 'AI', 'assistant', 'able', 'understand', 'human', 'voice', 'commands', 'execute', 'certain', 'actions', 'based', 'AI', 'common', 'theme', 'seen', 'many', 'movies', 'Whether', 'centered', 'around', 'plot', 'also', 'times', 'AI', 'makes', 'appearance', 'movies', 'item', 'technology', 'featured', 'movie', 'uses', 'AI', 'technologies', 'name', 'movie', 'top', 'head', 'think', 'Marvel', 'movies', 'feature', 'AI', 'technologies', 'Iron', 'Man', 'Jarvis', 'Friday', 'belong', 'high', 'performance', 'artificial', 'intelligence', 'Black', 'Mirror', 'Season', '4', '5', 'centers', 'around', 'future', 'AI', 'effects', 'daily', 'lives', 'human', 'race', 'general', 'show', 'centers', 'around', 'integrating', 'AI', 'human', 'body', 'expand', 'save', 'memories', 'enhance', 'intelligence', 'play', 'realistic', 'video', 'games', 'fully', 'emerged', 'inside', 'game', 'senses', 'bit', 'dark', 'perspective', 'side', 'kind', 'show', 'think', 'fascinating', 'show', 'everyone', 'give', 'try', 'examples', 'game', 'Detroit', 'Become', 'Human', 'movie', 'Robot', 'Ex', 'Machina', 'ChappieI', 'watch', 'play', 'many', 'games', 'know', 'Maybe', 'Iron', 'Man', 'Jarvis', 'movie', 'think', 'relevant', 'AI', 'film', 'Ex', 'Machina', 'movie', 'centered', 'around', 'Turing', 'Test', 'AI', 'robot', 'trying', 'pass', 'Though', 'Turing', 'Test', 'subjective', 'less', 'scientific', 'test', 'AI', 'passing', 'Turing', 'Test', 'would', 'convincing', 'enough', 'human', 'implies', 'least', 'human', 'levels', 'intelligence', 'game', 'big', 'fan', 'called', 'Cyanotype', 'Daydream', 'one', 'main', 'characters', 'AI', 'borders', 'developing', 'human', 'emotions', 'interested', 'seeing', 'real', 'role', 'NLP', 'could', 'tie', 'character', 'development', 'whether', 'future', 'one', 'dissimilar', 'world', 'Cyanotype', 'Daydream', 'movie', 'Robot', 'AI', 'fighting', 'humanity', 'matrix', 'replicating', 'human', 'consciousness', 'create', 'artificial', 'intelligence', 'ex', 'machina', 'also', 'centered', 'around', 'really', 'intelligent', 'ai', 'movies', 'Wandering', 'Earth', '2', 'Al', '550', 'think', 'NLP', 'AI', 'contorl', 'AI', 'roblet', 'battle', 'time', 'contol', 'engines', 'Moon', 'make', 'engines', 'engough', 'speed', 'leave', 'Earth', 'lot', 'AI', 'movies', 'walle', 'others', 'Since', 'lot', 'AIs', 'understand', 'respond', 'believe', 'uses', 'NLP', 'Matrix', 'course', 'Ex', 'Machina', 'another', 'interesting', 'one', 'largely', 'showing', 'themes', 'NLPI', 'think', '2', 'relevant', 'Robot', 'Eagle', 'Eye', 'although', 'necessarily', 'realistic', 'show', 'consequences', 'increased', 'advancement', 'AI', 'Iron', 'man', 'relevant', 'example', 'AI', 'NLP', 'Tony', 'Stark', 'created', 'J', 'R', 'V', 'Rather', 'Intelligent', 'System', 'essentially', 'personal', 'assistant', 'Start', 'K', 'drama', 'main', 'character', 'software', 'engineer', 'makes', 'computer', 'vision', 'app', 'lets', 'blind', 'people', 'ask', 'question', 'like', 'count', 'money', 'front', 'object', 'front', 'app', 'tell', 'isImitation', 'Game', 'Alan', 'Turing', 'makes', 'computer', 'search', 'decryption', 'codefor', 'enigma', 'machineThe', 'terminator', 'could', 'relevant', 'NLP', 'terminator', 'communicate', 'humans', 'using', 'natural', 'language', 'Therefore', 'purposes', 'communication', 'inputs', 'outputs', 'terminator', 'encoded', 'spoken', 'natural', 'languages', 'like', 'english', 'movies', 'time', 'someone', 'speaks', 'AI', 'control', 'NLP', 'involved', 'Issuing', 'verbal', 'commands', 'run', 'simulation', 'example', 'One', 'movie', 'feel', 'relates', 'AI', 'blade', 'runner', 'since', 'setting', 'movie', 'heavily', 'relies', 'beings', 'called', 'reploids', 'essentially', 'AGI', '2001', 'Space', 'Odyssey', 'ship', 'AI', 'able', 'sense', 'passengers', 'intent', 'work', 'sure', 'discussing', 'classmates', 'came', 'Chappie', 'think', 'Iron', 'Man', 'pretty', 'relevant', 'NLA', 'AI', 'focused', 'around', 'lot', 'futuristic', 'tech', 'time', 'released', 'slowly', 'becoming', 'reality', 'game', 'called', 'Detroit', 'Become', 'Human', 'seems', 'relevance', 'NLP', 'AI', 'game', 'involves', 'setting', 'humanoid', 'androids', 'everyday', 'tools', 'humans', 'game', 'androids', 'appearances', 'voices', 'quite', 'identical', 'humans', 'game', 'difference', 'many', 'make', 'uniforms', 'blue', 'circle', 'heads', 'Deus', 'Ex', 'Machina', 'assuming', 'AI', 'robots', 'used', 'NLP', 'processing', 'voice', 'text', 'order', 'process', 'input', 'data', 'formulating', 'natural', 'speak', 'back', 'people', 'sure', 'Ready', 'Player', 'one', 'shows', 'world', 'anyone', 'become', 'anything', 'want', 'use', 'technology', 'AI', 'AR', 'virtual', 'setting', 'one', 'puts', 'headset', 'transported', 'universe', 'real', 'life', 'character', 'iRobot', 'think', 'episodes', 'Star', 'Trek', 'also', 'ask', 'question', 'advanced', 'AI', 'may', 'like', 'Bicentennial', 'Man', 'universe', 'Star', 'Wars', 'advanced', 'AI', 'everywhere', 'think', 'Warhammer', '40k', 'lore', 'AI', 'banned', 'factions', 'actually', 'concept', 'found', 'couple', 'unrelated', 'series', 'movie', 'Joaquin', 'Pheonix', 'falling', 'love', 'AI', 'model', 'Nowadays', 'feel', 'games', 'already', 'use', 'AI', 'NPC', 'interactions', 'movies', 'shows', 'could', 'potentially', 'use', 'AI', 'generated', 'scripts', 'dialogues', 'Ex', 'machina', 'Free', 'Guy', 'examples', 'movies', 'relevant', 'NLP', 'AI', 'aspects', 'artificial', 'intelligence', 'understanding', 'working', 'world', 'movie', 'one', 'movies', 'relevant', 'AI', 'NLP', 'specifically', 'AGI', 'One', 'example', 'would', 'Black', 'Mirror', 'series', 'Netflix', 'explores', 'ideas', 'AI', 'future', 'think', 'way', 'robots', 'able', 'speak', 'related', 'NLPA', 'great', 'example', 'within', 'movie', 'centered', 'around', 'NLP', 'AI', 'Jarvis', 'Iron', 'Man', 'Marvel', 'Jarvis', 'AI', 'assistant', 'helps', 'Tony', 'Stark', 'throughout', 'life', 'make', 'things', 'easier', 'speech', 'commands', 'Many', 'animated', 'movies', 'AI', 'villain', 'antagonist', 'seems', 'almost', 'unbeatable', 'smarter', 'characters', 'Imitation', 'Game', 'movie', 'shows', 'Alan', 'Turing', 'helped', 'crack', 'Enigma', 'code', 'Germans', 'using', 'send', 'messages', 'unsecure', 'communication', 'line', 'think', 'relevant', 'AI', 'shows', 'trying', 'predict', 'likely', 'letters', 'emerge', 'using', 'provided', 'encrypted', 'message', 'movie', 'involves', 'robot', 'program', 'talking', 'interacting', 'humans', 'relevant', 'NLP', 'AI', 'best', 'example', 'think', 'movie', 'think', 'could', 'relevant', 'BIG', 'Hero', '6', 'robot', 'think', 'AI', 'based', 'robot', 'makes', 'decisions', 'based', 'whats', 'happening', 'surroundings', 'act', 'accordingly', 'thoMovies', 'shows', 'games', 'relevant', 'NLP', 'AI', 'could', 'show', 'called', 'Person', 'Interest', 'features', 'AI', 'able', 'predict', 'crime', 'happens', 'Westworld', 'another', 'show', 'features', 'use', 'AI', 'NLP', 'robots', 'create', 'interpret', 'speech', 'movie', 'Avengers', 'Age', 'Ultron', 'relevant', 'NLP', 'AI', 'Ultron', 'main', 'villain', 'movie', 'creates', 'multiple', 'versions', 'AI', 'self', 'fight', 'humanity', 'Avengers', 'robocop', 'thats', 'think', 'ofMovie', 'Iron', 'ManGame', 'Cyberpunk', '2077', 'TitanFall2They', 'working', 'AI', 'even', 'robot', 'Looking', 'forward', 'past', 'science', 'fiction', 'relevant', 'context', 'Looking', 'present', 'forward', 'AI', 'trained', 'media', 'using', 'NLP', 'media', 'relevant', 'Games', 'Nier', 'Automata', 'War', 'human', 'made', 'androids', 'intelligent', 'machines', 'another', 'planet', 'Recently', 'watched', 'movie', 'meg3n', 'humanoid', 'advanced', 'robot', 'feelings', 'think', 'like', 'human', 'improve', 'ability', 'machine', 'learning', 'turns', 'person', 'created', 'end', 'think', 'movie', 'covers', 'aspects', 'nlp', 'ai', 'ml', 'since', 'incorporated', 'create', 'robot', 'think', 'NLP', 'could', 'place', 'modifying', 'movie', 'scripts', 'generating', 'case', 'specific', 'text', 'roleplaying', 'games', 'instance', 'open', 'world', 'roleplaying', 'games', 'developers', 'prepare', 'every', 'path', 'character', 'might', 'take', 'generating', 'new', 'text', 'speech', 'fly', 'using', 'AI', 'could', 'create', 'immersive', 'experience', 'think', 'HBO', 'Silicon', 'Valley', 'season', '6', 'main', 'product', 'centered', 'around', 'AI', 'black', 'box', 'neural', 'net']\n"
     ]
    }
   ],
   "source": [
    "def read_txt(file_path): \n",
    "    # read file contents by line \n",
    "    file = open(file_path, \"r\", encoding=\"utf-8\")\n",
    "    text = file.read() \n",
    "    text = re.sub(r'\\n', '', text)\n",
    "    text = re.sub(r'[^\\s\\w\\d]', ' ', text)\n",
    "    text = re.sub(r'\\'', '', text)\n",
    "    text = text.strip()\n",
    "    text = text.lower()\n",
    "    tokenized_words = word_tokenize(text)\n",
    "    tokenized_words = [w for w in tokenized_words if not w.lower() in stop_words]\n",
    "    print(tokenized_words)\n",
    "\n",
    "\n",
    "stop_words = set(stopwords.words('english'))\n",
    "read_txt(\"movie.txt\")\n",
    "    "
   ]
  }
 ],
 "metadata": {
  "kernelspec": {
   "display_name": "Python 3.11.5 64-bit",
   "language": "python",
   "name": "python3"
  },
  "language_info": {
   "codemirror_mode": {
    "name": "ipython",
    "version": 3
   },
   "file_extension": ".py",
   "mimetype": "text/x-python",
   "name": "python",
   "nbconvert_exporter": "python",
   "pygments_lexer": "ipython3",
   "version": "3.11.5"
  },
  "orig_nbformat": 4,
  "vscode": {
   "interpreter": {
    "hash": "b0fa6594d8f4cbf19f97940f81e996739fb7646882a419484c72d19e05852a7e"
   }
  }
 },
 "nbformat": 4,
 "nbformat_minor": 2
}

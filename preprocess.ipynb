{
 "cells": [
  {
   "cell_type": "markdown",
   "metadata": {},
   "source": [
    "# Load libraries / create tokenizer object "
   ]
  },
  {
   "cell_type": "code",
   "execution_count": 2,
   "metadata": {},
   "outputs": [],
   "source": [
    "import pandas as pd \n",
    "import string \n",
    "import numpy as np \n",
    "import os \n",
    "from nltk import word_tokenize\n",
    "from nltk.corpus import stopwords   \n",
    "from nltk.stem import PorterStemmer\n",
    "from sklearn.feature_extraction.text import TfidfVectorizer\n",
    "from sklearn.decomposition import NMF \n",
    "from collections import Counter \n",
    "import math\n",
    "import re "
   ]
  },
  {
   "cell_type": "markdown",
   "metadata": {},
   "source": [
    "# train / test split\n"
   ]
  },
  {
   "cell_type": "code",
   "execution_count": 6,
   "metadata": {},
   "outputs": [
    {
     "name": "stdout",
     "output_type": "stream",
     "text": [
      "                                                     text\n",
      "0       Man continuously undergoes selection through t...\n",
      "1       Today we are celebrating the precious letter P...\n",
      "2       Comics Archive | I made inky. 07/30/12 – Comic...\n",
      "3       This article is about current Disney record la...\n",
      "4       This entry was posted on November 3, 2011 at 4...\n",
      "...                                                   ...\n",
      "149995  17 HOU W 22-13 2 0 0 0.0 0 No injury listed. 1...\n",
      "149996  Item description Caption on back of photograph...\n",
      "149997  In a bizarre coincidence recently, DC Comics l...\n",
      "149998  The Men of Hampton Park dedicate themselves to...\n",
      "149999  Welcome to Post-weekend Poetry and the twelfth...\n",
      "\n",
      "[150000 rows x 1 columns]\n"
     ]
    }
   ],
   "source": [
    "data = pd.read_csv('c4filteredsample_tagged.csv')\n",
    "\n",
    "for col in data.columns: \n",
    "    if \"text\" not in col: \n",
    "        data = data.drop(col, axis=1)\n",
    "\n",
    "\n",
    "data = data.replace({r'\\n' : ' '}, regex=True) \n",
    "data.fillna('', inplace=True)\n",
    "data = data.replace({r'\\'' : ' '}, regex=True) \n",
    "\n",
    "print(data)"
   ]
  },
  {
   "cell_type": "markdown",
   "metadata": {},
   "source": [
    "# load corpus\n"
   ]
  },
  {
   "cell_type": "code",
   "execution_count": 1,
   "metadata": {},
   "outputs": [
    {
     "name": "stdout",
     "output_type": "stream",
     "text": [
      "./corpus/www.aa.com_booking_find-flights.txt\n",
      "./corpus/www.linkedin.com_jobs_search_?currentJobId=3915603480&distance=25&f_WT=1%2C3%2C2&geoId=102448103&keywords=software%20engineer&origin=JOBS_HOME_SEARCH_CARDS.txt\n",
      "./corpus/spacelift.io_blog_kubernetes-cronjob.txt\n",
      "./corpus/stackoverflow.com_questions_45019753_how-to-retrain-a-machine-learning-model-in-python-till-we-get-desired-outcome.txt\n",
      "./corpus/towardsdatascience.com_topic-modeling-articles-with-nmf-8c6b2a227a45.txt\n",
      "./corpus/www.frontiersin.org_articles_10.3389_fsoc.2022.886498_full.txt\n",
      "./corpus/www.jetblue.com_flights.txt\n",
      "./corpus/kubernetes.io_docs_concepts_workloads_controllers_cron-jobs_.txt\n",
      "./corpus/kubernetes.io_docs_tasks_job_automated-tasks-with-cron-jobs_.txt\n"
     ]
    }
   ],
   "source": [
    "def load_corpus(path): \n",
    "    corpus_paths = []\n",
    "    for filename in os.listdir(path): \n",
    "        file_path = path + filename \n",
    "        corpus_paths.append(file_path)\n",
    "    return corpus_paths \n",
    "\n",
    "corpus_dir = './corpus/'\n",
    "file_paths = load_corpus(corpus_dir)\n",
    "for path in file_paths: \n",
    "    print(path)\n",
    "\n",
    "\n"
   ]
  },
  {
   "cell_type": "markdown",
   "metadata": {},
   "source": [
    "# Preprocess data "
   ]
  },
  {
   "cell_type": "code",
   "execution_count": 4,
   "metadata": {},
   "outputs": [],
   "source": [
    "ps = PorterStemmer()\n",
    "stop = set(stopwords.words('english'))\n",
    "\n",
    "def read_txt(file_path): \n",
    "    # read file contents by line \n",
    "    file = open(file_path, \"r\", encoding=\"utf-8\")\n",
    "    text = file.read() \n",
    "    text = re.sub(r'\\n', '', text)\n",
    "    text = re.sub(r'\\d', '', text)\n",
    "    text = text.translate(str.maketrans('', '', string.punctuation))\n",
    "    text = text.strip()\n",
    "    text = text.lower()\n",
    "    tokenized_words = word_tokenize(text)\n",
    "    tokenized_words = [w for w in tokenized_words if w not in stop]\n",
    "    tokenized_words = [ps.stem(word) for word in tokenized_words]\n",
    "    return ' '.join(tokenized_words)\n",
    "\n",
    "\n",
    "\n",
    "websites_preprocessed_data = [] \n",
    "for path in file_paths: \n",
    "    websites_preprocessed_data.append(read_txt(path))\n"
   ]
  },
  {
   "cell_type": "markdown",
   "metadata": {},
   "source": [
    "# TF / IDF Frequency (from scratch)"
   ]
  },
  {
   "cell_type": "code",
   "execution_count": null,
   "metadata": {},
   "outputs": [],
   "source": [
    "doc_occurrences = {}\n",
    "def get_frequencies(website): # takes the corpus, counts its frequencies occurred in doc and stores in dictionary \n",
    "    word_freq = {} # stores the frequency of each word in a doc \n",
    "    for word in website: \n",
    "        if word in word_freq: \n",
    "            word_freq[word] += 1 \n",
    "        else: \n",
    "            word_freq[word] = 1 \n",
    "    return word_freq \n",
    "\n",
    "def get_doc_occurrences(website_dict, websites, doc_occurrences): # get the number of websites a word appears in \n",
    "    for key in website_dict: \n",
    "        if key not in doc_occurrences: \n",
    "            ct = 0 \n",
    "            for website in websites: \n",
    "                if key in website: \n",
    "                    ct = ct + 1 \n",
    "            doc_occurrences[key] = ct \n",
    "    return doc_occurrences\n",
    "\n",
    "\n",
    "def calculate_tf_idf(website, websites, n, doc_occurrences): \n",
    "    word_freqs = get_frequencies(website)\n",
    "    tf_idf = {}\n",
    "    doc_occurrences = get_doc_occurrences(word_freqs, websites, doc_occurrences)\n",
    "    tf_idf = {} \n",
    "    for key in word_freqs: \n",
    "        doc_occurs = doc_occurrences[key]\n",
    "        print(doc_occurs, word_freqs[key])\n",
    "        tf_idf[key] = word_freqs[key] * math.log(n / doc_occurs)\n",
    "    print(tf_idf)\n",
    "    return tf_idf \n",
    "\n",
    "\n",
    "for website in websites_preprocessed_data: \n",
    "    calculate_tf_idf(website, websites_preprocessed_data, len(websites_preprocessed_data), doc_occurrences=doc_occurrences)\n",
    "\n",
    "\n",
    "\n",
    "\n",
    "\n",
    "\n",
    "\n",
    "\n",
    "\n"
   ]
  },
  {
   "cell_type": "markdown",
   "metadata": {},
   "source": [
    "# actual TF / IDF Frequency"
   ]
  },
  {
   "cell_type": "code",
   "execution_count": null,
   "metadata": {},
   "outputs": [],
   "source": []
  },
  {
   "cell_type": "code",
   "execution_count": 23,
   "metadata": {},
   "outputs": [
    {
     "name": "stdout",
     "output_type": "stream",
     "text": [
      "                    ./corpus/www.aa.com_booking_find-flights.txt  \\\n",
      "aacom                                                    0.06198   \n",
      "aacom submit                                             0.03099   \n",
      "aadvantag                                                0.03099   \n",
      "aadvantag accountc                                       0.03099   \n",
      "abac                                                     0.00000   \n",
      "...                                                          ...   \n",
      "zscore bigquerya                                         0.00000   \n",
      "zscore number                                            0.00000   \n",
      "zydziunait                                               0.00000   \n",
      "zydziunait automat                                       0.00000   \n",
      "京icp备号                                                   0.00000   \n",
      "\n",
      "                    ./corpus/www.linkedin.com_jobs_search_?currentJobId=3915603480&distance=25&f_WT=1%2C3%2C2&geoId=102448103&keywords=software%20engineer&origin=JOBS_HOME_SEARCH_CARDS.txt  \\\n",
      "aacom                                                             0.0                                                                                                                          \n",
      "aacom submit                                                      0.0                                                                                                                          \n",
      "aadvantag                                                         0.0                                                                                                                          \n",
      "aadvantag accountc                                                0.0                                                                                                                          \n",
      "abac                                                              0.0                                                                                                                          \n",
      "...                                                               ...                                                                                                                          \n",
      "zscore bigquerya                                                  0.0                                                                                                                          \n",
      "zscore number                                                     0.0                                                                                                                          \n",
      "zydziunait                                                        0.0                                                                                                                          \n",
      "zydziunait automat                                                0.0                                                                                                                          \n",
      "京icp备号                                                            0.0                                                                                                                          \n",
      "\n",
      "                    ./corpus/spacelift.io_blog_kubernetes-cronjob.txt  \\\n",
      "aacom                                                             0.0   \n",
      "aacom submit                                                      0.0   \n",
      "aadvantag                                                         0.0   \n",
      "aadvantag accountc                                                0.0   \n",
      "abac                                                              0.0   \n",
      "...                                                               ...   \n",
      "zscore bigquerya                                                  0.0   \n",
      "zscore number                                                     0.0   \n",
      "zydziunait                                                        0.0   \n",
      "zydziunait automat                                                0.0   \n",
      "京icp备号                                                            0.0   \n",
      "\n",
      "                    ./corpus/stackoverflow.com_questions_45019753_how-to-retrain-a-machine-learning-model-in-python-till-we-get-desired-outcome.txt  \\\n",
      "aacom                                                             0.0                                                                                 \n",
      "aacom submit                                                      0.0                                                                                 \n",
      "aadvantag                                                         0.0                                                                                 \n",
      "aadvantag accountc                                                0.0                                                                                 \n",
      "abac                                                              0.0                                                                                 \n",
      "...                                                               ...                                                                                 \n",
      "zscore bigquerya                                                  0.0                                                                                 \n",
      "zscore number                                                     0.0                                                                                 \n",
      "zydziunait                                                        0.0                                                                                 \n",
      "zydziunait automat                                                0.0                                                                                 \n",
      "京icp备号                                                            0.0                                                                                 \n",
      "\n",
      "                    ./corpus/towardsdatascience.com_topic-modeling-articles-with-nmf-8c6b2a227a45.txt  \\\n",
      "aacom                                                        0.000000                                   \n",
      "aacom submit                                                 0.000000                                   \n",
      "aadvantag                                                    0.000000                                   \n",
      "aadvantag accountc                                           0.000000                                   \n",
      "abac                                                         0.000000                                   \n",
      "...                                                               ...                                   \n",
      "zscore bigquerya                                             0.028072                                   \n",
      "zscore number                                                0.028072                                   \n",
      "zydziunait                                                   0.000000                                   \n",
      "zydziunait automat                                           0.000000                                   \n",
      "京icp备号                                                       0.000000                                   \n",
      "\n",
      "                    ./corpus/www.frontiersin.org_articles_10.3389_fsoc.2022.886498_full.txt  \\\n",
      "aacom                                                        0.000000                         \n",
      "aacom submit                                                 0.000000                         \n",
      "aadvantag                                                    0.000000                         \n",
      "aadvantag accountc                                           0.000000                         \n",
      "abac                                                         0.000000                         \n",
      "...                                                               ...                         \n",
      "zscore bigquerya                                             0.000000                         \n",
      "zscore number                                                0.000000                         \n",
      "zydziunait                                                   0.002942                         \n",
      "zydziunait automat                                           0.002942                         \n",
      "京icp备号                                                       0.000000                         \n",
      "\n",
      "                    ./corpus/www.jetblue.com_flights.txt  \\\n",
      "aacom                                                0.0   \n",
      "aacom submit                                         0.0   \n",
      "aadvantag                                            0.0   \n",
      "aadvantag accountc                                   0.0   \n",
      "abac                                                 0.0   \n",
      "...                                                  ...   \n",
      "zscore bigquerya                                     0.0   \n",
      "zscore number                                        0.0   \n",
      "zydziunait                                           0.0   \n",
      "zydziunait automat                                   0.0   \n",
      "京icp备号                                               0.0   \n",
      "\n",
      "                    ./corpus/kubernetes.io_docs_concepts_workloads_controllers_cron-jobs_.txt  \\\n",
      "aacom                                                         0.00000                           \n",
      "aacom submit                                                  0.00000                           \n",
      "aadvantag                                                     0.00000                           \n",
      "aadvantag accountc                                            0.00000                           \n",
      "abac                                                          0.00716                           \n",
      "...                                                               ...                           \n",
      "zscore bigquerya                                              0.00000                           \n",
      "zscore number                                                 0.00000                           \n",
      "zydziunait                                                    0.00000                           \n",
      "zydziunait automat                                            0.00000                           \n",
      "京icp备号                                                        0.00716                           \n",
      "\n",
      "                    ./corpus/kubernetes.io_docs_tasks_job_automated-tasks-with-cron-jobs_.txt  \n",
      "aacom                                                        0.000000                          \n",
      "aacom submit                                                 0.000000                          \n",
      "aadvantag                                                    0.000000                          \n",
      "aadvantag accountc                                           0.000000                          \n",
      "abac                                                         0.010124                          \n",
      "...                                                               ...                          \n",
      "zscore bigquerya                                             0.000000                          \n",
      "zscore number                                                0.000000                          \n",
      "zydziunait                                                   0.000000                          \n",
      "zydziunait automat                                           0.000000                          \n",
      "京icp备号                                                       0.010124                          \n",
      "\n",
      "[15902 rows x 9 columns]\n",
      "<class 'pandas.core.frame.DataFrame'>\n"
     ]
    }
   ],
   "source": [
    "vectorizer = TfidfVectorizer(norm='l2', smooth_idf=True, ngram_range=(1, 2))\n",
    "website_content = [] \n",
    "def file_to_st(file_path): \n",
    "    file = open(file_path, \"r\", encoding=\"utf-8\")\n",
    "    text = file.read() \n",
    "    return text \n",
    "\n",
    " \n",
    "x = vectorizer.fit_transform(websites_preprocessed_data)\n",
    "tokens = vectorizer.get_feature_names_out()\n",
    "tfidf_df = pd.DataFrame(data = x.T.toarray(),index = tokens, columns = file_paths)\n",
    "print(tfidf_df)\n",
    "print(type(tfidf_df))\n",
    "\n",
    "\n"
   ]
  },
  {
   "cell_type": "markdown",
   "metadata": {},
   "source": [
    "# SVD "
   ]
  },
  {
   "cell_type": "code",
   "execution_count": null,
   "metadata": {},
   "outputs": [],
   "source": [
    "# rank < min(m, n) for matrix m x n \n",
    "def svd_init(m, rank): \n",
    "    # convert from dataframe to array \n",
    "    arr = m.values\n",
    "    u, s, v = np.linalg.svd(arr, full_matrices=False)\n",
    "    v = v.T \n",
    "    w = np.zeros((arr.shape[0], rank)) \n",
    "    h = np.zeros((rank, arr.shape[1]))\n",
    "\n",
    "    w[:, 0] = np.sqrt(s[0]) * np.abs(u[:, 0])\n",
    "    h[0, :] = np.sqrt(s[0]) * np.abs(v[:, 0].T)\n",
    "\n",
    "    for i in range(1, rank): \n",
    "        print(u.shape)\n",
    "        x = u[:, i]\n",
    "        y = v[:, i]\n",
    "        x_p = (x >= 0) * x\n",
    "        x_n = (x < 0) * -x\n",
    "        y_p = (y >= 0) * y\n",
    "        y_n = (y <  0) * -y\n",
    "\n",
    "        xp_norm = np.linalg.norm(x_p, 2)\n",
    "        xn_norm = np.linalg.norm(x_n, 2)\n",
    "        yp_norm = np.linalg.norm(y_p, 2)\n",
    "        yn_norm = np.linalg.norm(y_n, 2)\n",
    "\n",
    "        p_norm = xp_norm * yp_norm \n",
    "        n_norm = xn_norm * yn_norm \n",
    "        if p_norm > n_norm: \n",
    "            u_i = x_p / xp_norm \n",
    "            v_i = y_p / yp_norm \n",
    "            sigma = p_norm \n",
    "        else: \n",
    "            u_i = x_n / xn_norm \n",
    "            v_i = y_n / yn_norm \n",
    "            sigma = n_norm \n",
    "        w[:, i] = np.sqrt(s[i] * sigma) * u_i\n",
    "        h[i, :] = np.sqrt(s[i] * sigma) * v_i.T \n",
    "\n",
    "    threshold = 1e-10 \n",
    "\n",
    "    w[w < threshold] = 0\n",
    "    h[h < threshold] = 0\n",
    "\n",
    "    return w, h \n",
    "        \n",
    "\n",
    "\n",
    "\n",
    "w, h = svd_init(tfidf_df, 3)\n",
    "print(\"w: \", w, w.shape)\n",
    "print(\"h: \", h, h.shape)\n"
   ]
  },
  {
   "cell_type": "markdown",
   "metadata": {},
   "source": [
    "# NMF"
   ]
  },
  {
   "cell_type": "code",
   "execution_count": 20,
   "metadata": {},
   "outputs": [
    {
     "name": "stdout",
     "output_type": "stream",
     "text": [
      "0 [0.         0.         0.64368637 0.008001  ]\n",
      "1 [0.01520028 0.02687482 0.61630582 0.        ]\n",
      "2 [0.62285755 0.02338112 0.00872876 0.        ]\n",
      "3 [0.         0.62006743 0.         0.0041045 ]\n",
      "4 [0.        0.5749474 0.        0.       ]\n",
      "5 [0.         0.6752744  0.00446505 0.00246688]\n",
      "6 [0.         0.         0.         1.07282832]\n",
      "7 [0.75865586 0.         0.         0.        ]\n",
      "8 [0.69128653 0.         0.         0.        ]\n"
     ]
    }
   ],
   "source": [
    "nmf_model = NMF(n_components=4, random_state=42)\n",
    "\n",
    "\n",
    "terms = vectorizer.get_feature_names_out()\n",
    "W = nmf_model.fit_transform(x)\n",
    "H = nmf_model.components_ \n",
    "\n",
    "\n",
    "topics = [] \n",
    "\n",
    "for index, topic in enumerate(H):\n",
    "    topics.append([terms[i] for i in topic.argsort()[-3:]])\n",
    "\n",
    "\n"
   ]
  },
  {
   "cell_type": "markdown",
   "metadata": {},
   "source": [
    "# mapping back to documents"
   ]
  },
  {
   "cell_type": "code",
   "execution_count": 24,
   "metadata": {},
   "outputs": [
    {
     "name": "stdout",
     "output_type": "stream",
     "text": [
      "Topic 1:\n",
      "Documents:\n",
      "Document: ./corpus/spacelift.io_blog_kubernetes-cronjob.txt\n",
      "Document: ./corpus/kubernetes.io_docs_concepts_workloads_controllers_cron-jobs_.txt\n",
      "Document: ./corpus/kubernetes.io_docs_tasks_job_automated-tasks-with-cron-jobs_.txt\n",
      "\n",
      "Topic 2:\n",
      "Documents:\n",
      "Document: ./corpus/stackoverflow.com_questions_45019753_how-to-retrain-a-machine-learning-model-in-python-till-we-get-desired-outcome.txt\n",
      "Document: ./corpus/towardsdatascience.com_topic-modeling-articles-with-nmf-8c6b2a227a45.txt\n",
      "Document: ./corpus/www.frontiersin.org_articles_10.3389_fsoc.2022.886498_full.txt\n",
      "\n",
      "Topic 3:\n",
      "Documents:\n",
      "Document: ./corpus/www.aa.com_booking_find-flights.txt\n",
      "Document: ./corpus/www.linkedin.com_jobs_search_?currentJobId=3915603480&distance=25&f_WT=1%2C3%2C2&geoId=102448103&keywords=software%20engineer&origin=JOBS_HOME_SEARCH_CARDS.txt\n",
      "\n",
      "Topic 4:\n",
      "Documents:\n",
      "Document: ./corpus/www.jetblue.com_flights.txt\n",
      "\n"
     ]
    }
   ],
   "source": [
    "topic_doc_map = {i: [] for i in range(nmf_model.n_components)}\n",
    "\n",
    "for doc_index, topic_contributions in enumerate(W):\n",
    "    dominant_topic = np.argmax(topic_contributions)\n",
    "    topic_doc_map[dominant_topic].append(doc_index)\n",
    "\n",
    "for topic, doc_indices in topic_doc_map.items():\n",
    "    print(f\"Topic {topic + 1}:\")\n",
    "    print(\"Documents:\")\n",
    "    for doc_index in doc_indices:\n",
    "        print(f\"Document: {file_paths[doc_index]}\")\n",
    "    print()"
   ]
  }
 ],
 "metadata": {
  "kernelspec": {
   "display_name": "Python 3.11.9 64-bit",
   "language": "python",
   "name": "python3"
  },
  "language_info": {
   "codemirror_mode": {
    "name": "ipython",
    "version": 3
   },
   "file_extension": ".py",
   "mimetype": "text/x-python",
   "name": "python",
   "nbconvert_exporter": "python",
   "pygments_lexer": "ipython3",
   "version": "3.11.9"
  },
  "orig_nbformat": 4,
  "vscode": {
   "interpreter": {
    "hash": "5c7b89af1651d0b8571dde13640ecdccf7d5a6204171d6ab33e7c296e100e08a"
   }
  }
 },
 "nbformat": 4,
 "nbformat_minor": 2
}

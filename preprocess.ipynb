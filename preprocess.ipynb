{
 "cells": [
  {
   "cell_type": "markdown",
   "metadata": {},
   "source": [
    "# Load libraries / create tokenizer object "
   ]
  },
  {
   "cell_type": "code",
   "execution_count": 59,
   "metadata": {},
   "outputs": [],
   "source": [
    "import pandas as pd \n",
    "import string \n",
    "import numpy as np \n",
    "from nltk import word_tokenize\n",
    "from nltk.corpus import stopwords   \n",
    "from nltk.stem import PorterStemmer\n",
    "from collections import Counter \n",
    "import re "
   ]
  },
  {
   "cell_type": "markdown",
   "metadata": {},
   "source": [
    "# Preprocess data "
   ]
  },
  {
   "cell_type": "markdown",
   "metadata": {},
   "source": []
  },
  {
   "cell_type": "code",
   "execution_count": 57,
   "metadata": {},
   "outputs": [
    {
     "name": "stdout",
     "output_type": "stream",
     "text": [
      "  0     1    2    3     4       5    6      7     8    9     ...    1162 1163  \\\n",
      "0  one  movi   ai  top  head  irobot  one  smith  sinc  ive  ...  season    6   \n",
      "\n",
      "   1164     1165    1166    1167 1168      1169    1170 1171  \n",
      "0  main  product  center  around   ai  blackbox  neural  net  \n",
      "\n",
      "[1 rows x 1172 columns]\n"
     ]
    }
   ],
   "source": [
    "ps = PorterStemmer()\n",
    "stop = set(stopwords.words('english'))\n",
    "\n",
    "def read_txt(file_path): \n",
    "    # read file contents by line \n",
    "    file = open(file_path, \"r\", encoding=\"utf-8\")\n",
    "    text = file.read() \n",
    "    text = re.sub(r'\\n', '', text)\n",
    "    text = text.translate(str.maketrans('', '', string.punctuation))\n",
    "    text = text.strip()\n",
    "    text = text.lower()\n",
    "    tokenized_words = word_tokenize(text)\n",
    "    tokenized_words = [w for w in tokenized_words if w not in stop]\n",
    "    tokenized_words = [ps.stem(word) for word in tokenized_words]\n",
    "    return tokenized_words\n",
    "\n",
    "websites = [] \n",
    "websites = websites.append(read_txt(\"movie.txt\"))\n",
    "print(websites)"
   ]
  },
  {
   "cell_type": "markdown",
   "metadata": {},
   "source": [
    "# TF / IDF Frequency"
   ]
  },
  {
   "cell_type": "code",
   "execution_count": 60,
   "metadata": {},
   "outputs": [
    {
     "ename": "AttributeError",
     "evalue": "'int' object has no attribute 'split'",
     "output_type": "error",
     "traceback": [
      "\u001b[0;31m---------------------------------------------------------------------------\u001b[0m",
      "\u001b[0;31mAttributeError\u001b[0m                            Traceback (most recent call last)",
      "Cell \u001b[0;32mIn[60], line 1\u001b[0m\n\u001b[0;32m----> 1\u001b[0m term_frequencies \u001b[38;5;241m=\u001b[39m \u001b[43m[\u001b[49m\u001b[43mCounter\u001b[49m\u001b[43m(\u001b[49m\u001b[43mwebsite\u001b[49m\u001b[38;5;241;43m.\u001b[39;49m\u001b[43msplit\u001b[49m\u001b[43m(\u001b[49m\u001b[43m)\u001b[49m\u001b[43m)\u001b[49m\u001b[43m \u001b[49m\u001b[38;5;28;43;01mfor\u001b[39;49;00m\u001b[43m \u001b[49m\u001b[43mwebsite\u001b[49m\u001b[43m \u001b[49m\u001b[38;5;129;43;01min\u001b[39;49;00m\u001b[43m \u001b[49m\u001b[43mwebsites\u001b[49m\u001b[43m]\u001b[49m\n\u001b[1;32m      2\u001b[0m \u001b[38;5;28mprint\u001b[39m(term_frequencies[\u001b[38;5;124m\"\u001b[39m\u001b[38;5;124mai\u001b[39m\u001b[38;5;124m\"\u001b[39m])\n",
      "Cell \u001b[0;32mIn[60], line 1\u001b[0m, in \u001b[0;36m<listcomp>\u001b[0;34m(.0)\u001b[0m\n\u001b[0;32m----> 1\u001b[0m term_frequencies \u001b[38;5;241m=\u001b[39m [Counter(\u001b[43mwebsite\u001b[49m\u001b[38;5;241;43m.\u001b[39;49m\u001b[43msplit\u001b[49m()) \u001b[38;5;28;01mfor\u001b[39;00m website \u001b[38;5;129;01min\u001b[39;00m websites]\n\u001b[1;32m      2\u001b[0m \u001b[38;5;28mprint\u001b[39m(term_frequencies[\u001b[38;5;124m\"\u001b[39m\u001b[38;5;124mai\u001b[39m\u001b[38;5;124m\"\u001b[39m])\n",
      "\u001b[0;31mAttributeError\u001b[0m: 'int' object has no attribute 'split'"
     ]
    }
   ],
   "source": [
    "doc_occurrences = {}\n",
    "def get_frequencies(website): \n",
    "    word_dict = {} # stores the frequency of each word in a doc \n",
    "    for word in website: \n",
    "        if word in word_dict: \n",
    "            word_dict[word] += 1 \n",
    "        else: \n",
    "            word_dict[word] = 1 \n",
    "    return word_dict \n",
    "\n",
    "def get_doc_occurrences(website_dict, websites, doc_occurrences): # get the number of websites a word appears in \n",
    "    for key in website_dict: \n",
    "        if key not in doc_occurrences: \n",
    "            ct = 0 \n",
    "            for website in websites: \n",
    "                if key in website: \n",
    "                    ct = ct + 1 \n",
    "            doc_occurrences[key] = ct \n",
    "\n",
    "\n",
    "def calculate_tf_idf(doc_occurrences, word_dict, )\n",
    "\n",
    "\n",
    "\n",
    "\n"
   ]
  }
 ],
 "metadata": {
  "kernelspec": {
   "display_name": "Python 3.11.5 64-bit",
   "language": "python",
   "name": "python3"
  },
  "language_info": {
   "codemirror_mode": {
    "name": "ipython",
    "version": 3
   },
   "file_extension": ".py",
   "mimetype": "text/x-python",
   "name": "python",
   "nbconvert_exporter": "python",
   "pygments_lexer": "ipython3",
   "version": "3.11.5"
  },
  "orig_nbformat": 4,
  "vscode": {
   "interpreter": {
    "hash": "b0fa6594d8f4cbf19f97940f81e996739fb7646882a419484c72d19e05852a7e"
   }
  }
 },
 "nbformat": 4,
 "nbformat_minor": 2
}
